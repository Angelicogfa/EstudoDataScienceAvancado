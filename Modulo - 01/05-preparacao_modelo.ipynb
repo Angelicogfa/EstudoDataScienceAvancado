{
 "metadata": {
  "language_info": {
   "codemirror_mode": {
    "name": "ipython",
    "version": 3
   },
   "file_extension": ".py",
   "mimetype": "text/x-python",
   "name": "python",
   "nbconvert_exporter": "python",
   "pygments_lexer": "ipython3",
   "version": "3.8.5-final"
  },
  "orig_nbformat": 2,
  "kernelspec": {
   "name": "python3",
   "display_name": "Python 3.8.5 64-bit ('angel': virtualenv)",
   "metadata": {
    "interpreter": {
     "hash": "2c1855c28b8b597f057332dae11de67c6b939458ee52262e1ccdf6e51de96f0d"
    }
   }
  }
 },
 "nbformat": 4,
 "nbformat_minor": 2,
 "cells": [
  {
   "cell_type": "code",
   "execution_count": 1,
   "metadata": {},
   "outputs": [],
   "source": [
    "import numpy as np\n",
    "import pandas as pd\n",
    "import time"
   ]
  },
  {
   "cell_type": "code",
   "execution_count": 2,
   "metadata": {},
   "outputs": [
    {
     "output_type": "stream",
     "name": "stdout",
     "text": [
      "<class 'pandas.core.frame.DataFrame'>\nInt64Index: 501 entries, 0 to 500\nData columns (total 9 columns):\n #   Column       Non-Null Count  Dtype  \n---  ------       --------------  -----  \n 0   link         501 non-null    object \n 1   title        497 non-null    object \n 2   canal_nome   498 non-null    object \n 3   canal_link   498 non-null    object \n 4   view_counts  498 non-null    float64\n 5   video_date   418 non-null    object \n 6   like         484 non-null    object \n 7   dislike      484 non-null    object \n 8   y            501 non-null    float64\ndtypes: float64(2), object(7)\nmemory usage: 39.1+ KB\n"
     ]
    }
   ],
   "source": [
    "df1 = pd.read_excel('raw_data_with_label.xlsx', sheet_name='links', index_col=0)\n",
    "df1 = df1[df1['y'].notnull()]\n",
    "df1.info()"
   ]
  },
  {
   "cell_type": "code",
   "execution_count": 3,
   "metadata": {},
   "outputs": [
    {
     "output_type": "execute_result",
     "data": {
      "text/plain": [
       "                                          link  \\\n",
       "0  https://www.youtube.com/watch?v=-0WQnwNFqJM   \n",
       "\n",
       "                                               title   canal_nome  \\\n",
       "0  AI learns to Speedrun QWOP using Machine Learning  Wesley Liao   \n",
       "\n",
       "                                          canal_link  view_counts  \\\n",
       "0  https://www.youtube.com/channel/UCair-JZ6XmtJk...     226613.0   \n",
       "\n",
       "           video_date                      like                    dislike  \\\n",
       "0  25 de fev. de 2021  2.729 marcações \"Gostei\"  33 marcações \"Não gostei\"   \n",
       "\n",
       "     y  \n",
       "0  0.0  "
      ],
      "text/html": "<div>\n<style scoped>\n    .dataframe tbody tr th:only-of-type {\n        vertical-align: middle;\n    }\n\n    .dataframe tbody tr th {\n        vertical-align: top;\n    }\n\n    .dataframe thead th {\n        text-align: right;\n    }\n</style>\n<table border=\"1\" class=\"dataframe\">\n  <thead>\n    <tr style=\"text-align: right;\">\n      <th></th>\n      <th>link</th>\n      <th>title</th>\n      <th>canal_nome</th>\n      <th>canal_link</th>\n      <th>view_counts</th>\n      <th>video_date</th>\n      <th>like</th>\n      <th>dislike</th>\n      <th>y</th>\n    </tr>\n  </thead>\n  <tbody>\n    <tr>\n      <th>0</th>\n      <td>https://www.youtube.com/watch?v=-0WQnwNFqJM</td>\n      <td>AI learns to Speedrun QWOP using Machine Learning</td>\n      <td>Wesley Liao</td>\n      <td>https://www.youtube.com/channel/UCair-JZ6XmtJk...</td>\n      <td>226613.0</td>\n      <td>25 de fev. de 2021</td>\n      <td>2.729 marcações \"Gostei\"</td>\n      <td>33 marcações \"Não gostei\"</td>\n      <td>0.0</td>\n    </tr>\n  </tbody>\n</table>\n</div>"
     },
     "metadata": {},
     "execution_count": 3
    }
   ],
   "source": [
    "df1.head(1)"
   ]
  },
  {
   "cell_type": "code",
   "execution_count": 7,
   "metadata": {},
   "outputs": [
    {
     "output_type": "stream",
     "name": "stdout",
     "text": [
      "<class 'pandas.core.frame.DataFrame'>\nInt64Index: 99 entries, 543 to 1012\nData columns (total 11 columns):\n #   Column       Non-Null Count  Dtype  \n---  ------       --------------  -----  \n 0   link         99 non-null     object \n 1   title        99 non-null     object \n 2   canal_nome   99 non-null     object \n 3   canal_link   99 non-null     object \n 4   view_counts  99 non-null     int64  \n 5   video_date   99 non-null     object \n 6   like         99 non-null     object \n 7   dislike      99 non-null     object \n 8   p            99 non-null     float64\n 9   y            99 non-null     int64  \n 10  novo         99 non-null     int64  \ndtypes: float64(1), int64(3), object(7)\nmemory usage: 9.3+ KB\n"
     ]
    }
   ],
   "source": [
    "df2 = pd.read_excel('active_learning_done.xlsx', sheet_name='links', index_col=0)\n",
    "df2 = df2[df2['y'].notnull()]\n",
    "df2['novo'] = 1\n",
    "df2.info()"
   ]
  },
  {
   "cell_type": "code",
   "execution_count": 9,
   "metadata": {},
   "outputs": [
    {
     "output_type": "execute_result",
     "data": {
      "text/plain": [
       "                                            link  \\\n",
       "543  https://www.youtube.com/watch?v=HnKaaDcWOXw   \n",
       "\n",
       "                                 title canal_nome  \\\n",
       "543  Why I Don't Like Machine Learning   #benawad   \n",
       "\n",
       "                                  canal_link  view_counts          video_date  \\\n",
       "543  https://www.youtube.com/hashtag/benawad       204970  25 de mar. de 2019   \n",
       "\n",
       "                         like                     dislike      p  y  novo  \n",
       "543  5.736 marcações \"Gostei\"  455 marcações \"Não gostei\"  0.599  0     1  "
      ],
      "text/html": "<div>\n<style scoped>\n    .dataframe tbody tr th:only-of-type {\n        vertical-align: middle;\n    }\n\n    .dataframe tbody tr th {\n        vertical-align: top;\n    }\n\n    .dataframe thead th {\n        text-align: right;\n    }\n</style>\n<table border=\"1\" class=\"dataframe\">\n  <thead>\n    <tr style=\"text-align: right;\">\n      <th></th>\n      <th>link</th>\n      <th>title</th>\n      <th>canal_nome</th>\n      <th>canal_link</th>\n      <th>view_counts</th>\n      <th>video_date</th>\n      <th>like</th>\n      <th>dislike</th>\n      <th>p</th>\n      <th>y</th>\n      <th>novo</th>\n    </tr>\n  </thead>\n  <tbody>\n    <tr>\n      <th>543</th>\n      <td>https://www.youtube.com/watch?v=HnKaaDcWOXw</td>\n      <td>Why I Don't Like Machine Learning</td>\n      <td>#benawad</td>\n      <td>https://www.youtube.com/hashtag/benawad</td>\n      <td>204970</td>\n      <td>25 de mar. de 2019</td>\n      <td>5.736 marcações \"Gostei\"</td>\n      <td>455 marcações \"Não gostei\"</td>\n      <td>0.599</td>\n      <td>0</td>\n      <td>1</td>\n    </tr>\n  </tbody>\n</table>\n</div>"
     },
     "metadata": {},
     "execution_count": 9
    }
   ],
   "source": [
    "df2.head(1)"
   ]
  },
  {
   "cell_type": "code",
   "execution_count": 10,
   "metadata": {},
   "outputs": [
    {
     "output_type": "execute_result",
     "data": {
      "text/plain": [
       "(0.44441498640622623, 0.6406546489563567)"
      ]
     },
     "metadata": {},
     "execution_count": 10
    }
   ],
   "source": [
    "from sklearn.metrics import roc_auc_score, average_precision_score\n",
    "average_precision_score(df2['y'], df2['p']), roc_auc_score(df2['y'], df2['p'])"
   ]
  },
  {
   "cell_type": "code",
   "execution_count": 20,
   "metadata": {},
   "outputs": [],
   "source": [
    "df = pd.concat([df1, df2.drop('p', axis=1)])"
   ]
  },
  {
   "cell_type": "code",
   "execution_count": 21,
   "metadata": {},
   "outputs": [
    {
     "output_type": "stream",
     "name": "stdout",
     "text": [
      "<class 'pandas.core.frame.DataFrame'>\nInt64Index: 600 entries, 0 to 1012\nData columns (total 10 columns):\n #   Column       Non-Null Count  Dtype  \n---  ------       --------------  -----  \n 0   link         600 non-null    object \n 1   title        596 non-null    object \n 2   canal_nome   597 non-null    object \n 3   canal_link   597 non-null    object \n 4   view_counts  597 non-null    float64\n 5   video_date   517 non-null    object \n 6   like         583 non-null    object \n 7   dislike      583 non-null    object \n 8   y            600 non-null    float64\n 9   novo         99 non-null     float64\ndtypes: float64(3), object(7)\nmemory usage: 51.6+ KB\n"
     ]
    }
   ],
   "source": [
    "df.info()"
   ]
  },
  {
   "cell_type": "code",
   "execution_count": 22,
   "metadata": {},
   "outputs": [],
   "source": [
    "from sklearn.linear_model import LogisticRegression\n",
    "from sklearn.ensemble import RandomForestClassifier"
   ]
  },
  {
   "cell_type": "code",
   "execution_count": 23,
   "metadata": {},
   "outputs": [],
   "source": [
    "df_limpo = pd.DataFrame(index=df.index)\n",
    "df_limpo['title'] = df['title']\n",
    "df_limpo['novo'] = df['novo'].fillna(0)\n",
    "df_limpo['views'] = df['view_counts']"
   ]
  },
  {
   "source": [
    "## 1. Limpeza de data"
   ],
   "cell_type": "markdown",
   "metadata": {}
  },
  {
   "cell_type": "code",
   "execution_count": 24,
   "metadata": {},
   "outputs": [],
   "source": [
    "columns = list(df.columns)\n",
    "columns.remove('y')\n",
    "columns.remove('novo')\n",
    "\n",
    "df.dropna(subset=columns, inplace=True, how='any')"
   ]
  },
  {
   "cell_type": "code",
   "execution_count": 25,
   "metadata": {},
   "outputs": [
    {
     "output_type": "stream",
     "name": "stdout",
     "text": [
      "<class 'pandas.core.frame.DataFrame'>\nInt64Index: 516 entries, 0 to 1012\nData columns (total 10 columns):\n #   Column       Non-Null Count  Dtype  \n---  ------       --------------  -----  \n 0   link         516 non-null    object \n 1   title        516 non-null    object \n 2   canal_nome   516 non-null    object \n 3   canal_link   516 non-null    object \n 4   view_counts  516 non-null    float64\n 5   video_date   516 non-null    object \n 6   like         516 non-null    object \n 7   dislike      516 non-null    object \n 8   y            516 non-null    float64\n 9   novo         99 non-null     float64\ndtypes: float64(3), object(7)\nmemory usage: 44.3+ KB\n"
     ]
    }
   ],
   "source": [
    "df.info()"
   ]
  },
  {
   "cell_type": "code",
   "execution_count": 26,
   "metadata": {},
   "outputs": [],
   "source": [
    "clean_date = df['video_date'].str.extract(r'(\\d+) de (\\w+)\\. de (\\d+)')\n",
    "clean_date[0] = clean_date[0].map(lambda x: \"0\"+ x[0] if len(x[0]) == 1 else x)\n",
    "\n",
    "mapa_meses = {\n",
    "    'jan': 'Jan',\n",
    "    'fev': 'Feb',\n",
    "    'mar': 'Mar',\n",
    "    'abr': 'Apr',\n",
    "    'mai': 'May',\n",
    "    'jun': 'Jun',\n",
    "    'jul': 'Jul',\n",
    "    'ago': 'Aug',\n",
    "    'set': 'Sep',\n",
    "    'out': 'Oct',\n",
    "    'nov': 'Nov',\n",
    "    'dez': 'Dec'\n",
    "}\n",
    "\n",
    "clean_date[1] = clean_date[1].map(mapa_meses)\n",
    "clean_date = clean_date.apply(lambda x: ' '.join(x), axis=1)\n",
    "clean_date.head()\n",
    "df_limpo['date'] = pd.to_datetime(clean_date, format='%d %b %Y')"
   ]
  },
  {
   "cell_type": "code",
   "execution_count": 27,
   "metadata": {},
   "outputs": [
    {
     "output_type": "stream",
     "name": "stdout",
     "text": [
      "<class 'pandas.core.frame.DataFrame'>\nInt64Index: 600 entries, 0 to 1012\nData columns (total 4 columns):\n #   Column  Non-Null Count  Dtype         \n---  ------  --------------  -----         \n 0   title   596 non-null    object        \n 1   novo    600 non-null    float64       \n 2   views   597 non-null    float64       \n 3   date    516 non-null    datetime64[ns]\ndtypes: datetime64[ns](1), float64(2), object(1)\nmemory usage: 23.4+ KB\n"
     ]
    }
   ],
   "source": [
    "df_limpo.info()"
   ]
  },
  {
   "cell_type": "code",
   "execution_count": 29,
   "metadata": {},
   "outputs": [],
   "source": [
    "indexs = df_limpo['date'].loc[df_limpo['date'].dt.year < 2018].index.values\n",
    "\n",
    "df_limpo.drop(index=indexs, axis='rows', inplace=True)\n",
    "df.drop(index=indexs, axis='rows', inplace=True)"
   ]
  },
  {
   "cell_type": "code",
   "execution_count": 30,
   "metadata": {},
   "outputs": [
    {
     "output_type": "execute_result",
     "data": {
      "text/plain": [
       "((553, 4), (469, 10))"
      ]
     },
     "metadata": {},
     "execution_count": 30
    }
   ],
   "source": [
    "df_limpo.shape, df.shape"
   ]
  },
  {
   "source": [
    "## 2. Features"
   ],
   "cell_type": "markdown",
   "metadata": {}
  },
  {
   "cell_type": "code",
   "execution_count": 31,
   "metadata": {},
   "outputs": [],
   "source": [
    "features = pd.DataFrame(index=df_limpo.index)\n",
    "y = df['y'].copy()"
   ]
  },
  {
   "cell_type": "code",
   "execution_count": 34,
   "metadata": {},
   "outputs": [],
   "source": [
    "features = pd.DataFrame(index=df_limpo.index)\n",
    "\n",
    "features['tempo_desde_pub'] = (pd.to_datetime('2021-03-18') - df_limpo['date']) / np.timedelta64(1, 'D')\n",
    "features['views'] = df_limpo['views']\n",
    "features['views_por_dia'] = features['views'] / features['tempo_desde_pub']\n",
    "features.drop(columns=['tempo_desde_pub'], inplace=True)"
   ]
  },
  {
   "cell_type": "code",
   "execution_count": 35,
   "metadata": {},
   "outputs": [
    {
     "output_type": "execute_result",
     "data": {
      "text/plain": [
       "      views  views_por_dia\n",
       "0  226613.0    5150.295455\n",
       "1   53263.0      57.457389\n",
       "2  142715.0     373.599476\n",
       "3  776910.0     809.281250\n",
       "4    2290.0       6.010499"
      ],
      "text/html": "<div>\n<style scoped>\n    .dataframe tbody tr th:only-of-type {\n        vertical-align: middle;\n    }\n\n    .dataframe tbody tr th {\n        vertical-align: top;\n    }\n\n    .dataframe thead th {\n        text-align: right;\n    }\n</style>\n<table border=\"1\" class=\"dataframe\">\n  <thead>\n    <tr style=\"text-align: right;\">\n      <th></th>\n      <th>views</th>\n      <th>views_por_dia</th>\n    </tr>\n  </thead>\n  <tbody>\n    <tr>\n      <th>0</th>\n      <td>226613.0</td>\n      <td>5150.295455</td>\n    </tr>\n    <tr>\n      <th>1</th>\n      <td>53263.0</td>\n      <td>57.457389</td>\n    </tr>\n    <tr>\n      <th>2</th>\n      <td>142715.0</td>\n      <td>373.599476</td>\n    </tr>\n    <tr>\n      <th>3</th>\n      <td>776910.0</td>\n      <td>809.281250</td>\n    </tr>\n    <tr>\n      <th>4</th>\n      <td>2290.0</td>\n      <td>6.010499</td>\n    </tr>\n  </tbody>\n</table>\n</div>"
     },
     "metadata": {},
     "execution_count": 35
    }
   ],
   "source": [
    "features.head()"
   ]
  },
  {
   "cell_type": "code",
   "execution_count": 37,
   "metadata": {},
   "outputs": [
    {
     "output_type": "execute_result",
     "data": {
      "text/plain": [
       "'2020-06-01'"
      ]
     },
     "metadata": {},
     "execution_count": 37
    }
   ],
   "source": [
    "qtd = len(df_limpo['date'])\n",
    "meio = qtd // 2 if qtd % 2 == 0 else (qtd // 2) + 1\n",
    "date = str(pd.Timestamp(df_limpo.sort_values(by='date')['date'].values[meio]).date())\n",
    "date"
   ]
  },
  {
   "cell_type": "code",
   "execution_count": 39,
   "metadata": {},
   "outputs": [
    {
     "output_type": "execute_result",
     "data": {
      "text/plain": [
       "((219, 2), (199, 2), (219,), (199,))"
      ]
     },
     "metadata": {},
     "execution_count": 39
    }
   ],
   "source": [
    "mask_train = (df_limpo['date'] < date) & (df_limpo['novo'] == 0)\n",
    "mask_val = (df_limpo['date'] >= date)\n",
    "\n",
    "X_train, X_val = features[mask_train], features[mask_val]\n",
    "y_train, y_val = y[mask_train], y[mask_val]\n",
    "X_train.shape, X_val.shape, y_train.shape, y_val.shape"
   ]
  },
  {
   "cell_type": "code",
   "execution_count": 40,
   "metadata": {},
   "outputs": [
    {
     "output_type": "execute_result",
     "data": {
      "text/plain": [
       "(0.0    182\n",
       " 1.0     37\n",
       " Name: y, dtype: int64,\n",
       " 0.0    162\n",
       " 1.0     37\n",
       " Name: y, dtype: int64)"
      ]
     },
     "metadata": {},
     "execution_count": 40
    }
   ],
   "source": [
    "y_train.value_counts(), y_val.value_counts()"
   ]
  },
  {
   "cell_type": "code",
   "execution_count": 42,
   "metadata": {},
   "outputs": [],
   "source": [
    "from sklearn.feature_extraction.text import TfidfVectorizer\n",
    "\n",
    "title_train = df_limpo[mask_train]['title']\n",
    "title_val = df_limpo[mask_val]['title']\n",
    "\n",
    "title_vec = TfidfVectorizer(min_df=2)\n",
    "title_bow_train = title_vec.fit_transform(title_train)\n",
    "title_bow_val = title_vec.transform(title_val)"
   ]
  },
  {
   "cell_type": "code",
   "execution_count": 43,
   "metadata": {},
   "outputs": [
    {
     "output_type": "execute_result",
     "data": {
      "text/plain": [
       "(219, 187)"
      ]
     },
     "metadata": {},
     "execution_count": 43
    }
   ],
   "source": [
    "title_bow_train.shape"
   ]
  },
  {
   "cell_type": "code",
   "execution_count": 44,
   "metadata": {},
   "outputs": [],
   "source": [
    "from scipy.sparse import hstack\n",
    "\n",
    "X_train_wtitle = hstack([X_train, title_bow_train])\n",
    "X_val_wtitle = hstack([X_val, title_bow_val])"
   ]
  },
  {
   "cell_type": "code",
   "execution_count": 45,
   "metadata": {},
   "outputs": [
    {
     "output_type": "execute_result",
     "data": {
      "text/plain": [
       "((219, 189), (199, 189))"
      ]
     },
     "metadata": {},
     "execution_count": 45
    }
   ],
   "source": [
    "X_train_wtitle.shape, X_val_wtitle.shape"
   ]
  },
  {
   "cell_type": "code",
   "execution_count": 46,
   "metadata": {},
   "outputs": [
    {
     "output_type": "execute_result",
     "data": {
      "text/plain": [
       "RandomForestClassifier(class_weight='balanced', random_state=0)"
      ]
     },
     "metadata": {},
     "execution_count": 46
    }
   ],
   "source": [
    "mdl = RandomForestClassifier(n_estimators=100, random_state=0, class_weight='balanced')\n",
    "mdl.fit(X_train_wtitle, y_train)"
   ]
  },
  {
   "cell_type": "code",
   "execution_count": 47,
   "metadata": {},
   "outputs": [],
   "source": [
    "p = mdl.predict_proba(X_val_wtitle)[:,1]"
   ]
  },
  {
   "cell_type": "code",
   "execution_count": 48,
   "metadata": {},
   "outputs": [],
   "source": [
    "from sklearn.metrics import roc_auc_score, average_precision_score"
   ]
  },
  {
   "cell_type": "code",
   "execution_count": 49,
   "metadata": {},
   "outputs": [
    {
     "output_type": "execute_result",
     "data": {
      "text/plain": [
       "(0.27014332029164356, 0.6586586586586587)"
      ]
     },
     "metadata": {},
     "execution_count": 49
    }
   ],
   "source": [
    "average_precision_score(y_val, p), roc_auc_score(y_val, p)"
   ]
  },
  {
   "source": [
    "## Aumentando treino"
   ],
   "cell_type": "markdown",
   "metadata": {}
  },
  {
   "cell_type": "code",
   "execution_count": 50,
   "metadata": {},
   "outputs": [
    {
     "output_type": "execute_result",
     "data": {
      "text/plain": [
       "(0.2920965222523041, 0.6908602150537635)"
      ]
     },
     "metadata": {},
     "execution_count": 50
    }
   ],
   "source": [
    "mask_train = (df_limpo['date'] < date)\n",
    "mask_val = (df_limpo['date'] >= date)  & (df_limpo['novo'] == 0)\n",
    "\n",
    "X_train, X_val = features[mask_train], features[mask_val]\n",
    "y_train, y_val = y[mask_train], y[mask_val]\n",
    "X_train.shape, X_val.shape, y_train.shape, y_val.shape\n",
    "\n",
    "title_train = df_limpo[mask_train]['title']\n",
    "title_val = df_limpo[mask_val]['title']\n",
    "\n",
    "title_vec = TfidfVectorizer(min_df=2)\n",
    "title_bow_train = title_vec.fit_transform(title_train)\n",
    "title_bow_val = title_vec.transform(title_val)\n",
    "\n",
    "X_train_wtitle = hstack([X_train, title_bow_train])\n",
    "X_val_wtitle = hstack([X_val, title_bow_val])\n",
    "\n",
    "mdl = RandomForestClassifier(n_estimators=100, random_state=0, class_weight='balanced')\n",
    "mdl.fit(X_train_wtitle, y_train)\n",
    "\n",
    "p = mdl.predict_proba(X_val_wtitle)[:,1]\n",
    "\n",
    "average_precision_score(y_val, p), roc_auc_score(y_val, p)"
   ]
  },
  {
   "cell_type": "code",
   "execution_count": 51,
   "metadata": {},
   "outputs": [
    {
     "output_type": "execute_result",
     "data": {
      "text/plain": [
       "(0.2820418882877961, 0.6795962629295963)"
      ]
     },
     "metadata": {},
     "execution_count": 51
    }
   ],
   "source": [
    "mask_train = (df_limpo['date'] < date)\n",
    "mask_val = (df_limpo['date'] >= date)\n",
    "\n",
    "X_train, X_val = features[mask_train], features[mask_val]\n",
    "y_train, y_val = y[mask_train], y[mask_val]\n",
    "X_train.shape, X_val.shape, y_train.shape, y_val.shape\n",
    "\n",
    "title_train = df_limpo[mask_train]['title']\n",
    "title_val = df_limpo[mask_val]['title']\n",
    "\n",
    "title_vec = TfidfVectorizer(min_df=2)\n",
    "title_bow_train = title_vec.fit_transform(title_train)\n",
    "title_bow_val = title_vec.transform(title_val)\n",
    "\n",
    "X_train_wtitle = hstack([X_train, title_bow_train])\n",
    "X_val_wtitle = hstack([X_val, title_bow_val])\n",
    "\n",
    "mdl = RandomForestClassifier(n_estimators=100, random_state=0, class_weight='balanced')\n",
    "mdl.fit(X_train_wtitle, y_train)\n",
    "\n",
    "p = mdl.predict_proba(X_val_wtitle)[:,1]\n",
    "\n",
    "average_precision_score(y_val, p), roc_auc_score(y_val, p)"
   ]
  },
  {
   "cell_type": "code",
   "execution_count": null,
   "metadata": {},
   "outputs": [],
   "source": []
  }
 ]
}