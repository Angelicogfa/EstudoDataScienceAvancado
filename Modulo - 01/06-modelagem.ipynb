{
 "metadata": {
  "language_info": {
   "codemirror_mode": {
    "name": "ipython",
    "version": 3
   },
   "file_extension": ".py",
   "mimetype": "text/x-python",
   "name": "python",
   "nbconvert_exporter": "python",
   "pygments_lexer": "ipython3",
   "version": "3.8.5"
  },
  "orig_nbformat": 2,
  "kernelspec": {
   "name": "python3",
   "display_name": "Python 3.8.5 64-bit ('base': conda)",
   "metadata": {
    "interpreter": {
     "hash": "2c1855c28b8b597f057332dae11de67c6b939458ee52262e1ccdf6e51de96f0d"
    }
   }
  }
 },
 "nbformat": 4,
 "nbformat_minor": 2,
 "cells": [
  {
   "cell_type": "code",
   "execution_count": 1,
   "metadata": {},
   "outputs": [],
   "source": [
    "import pandas as pd\n",
    "import numpy as np\n",
    "import time"
   ]
  },
  {
   "cell_type": "code",
   "execution_count": 2,
   "metadata": {},
   "outputs": [
    {
     "output_type": "execute_result",
     "data": {
      "text/plain": [
       "                                          link  \\\n",
       "0  https://www.youtube.com/watch?v=-0WQnwNFqJM   \n",
       "1  https://www.youtube.com/watch?v=-5hEYRt8JE0   \n",
       "2  https://www.youtube.com/watch?v=-6RqxhNO2yY   \n",
       "3  https://www.youtube.com/watch?v=-AkBfBWr_Gw   \n",
       "4  https://www.youtube.com/watch?v=-DDrE6T0ct4   \n",
       "\n",
       "                                               title  \\\n",
       "0  AI learns to Speedrun QWOP using Machine Learning   \n",
       "1  How to Become A Machine Learning Engineer | Ho...   \n",
       "2  Python For Data Science Full Course - 9 Hours ...   \n",
       "3                   Can You Become a Data Scientist?   \n",
       "4  Binary Image Classification with CNN (Deep Lea...   \n",
       "\n",
       "                   canal_nome  \\\n",
       "0                 Wesley Liao   \n",
       "1  #MachineLearningAlgorithms   \n",
       "2                    #edureka   \n",
       "3                       #data   \n",
       "4                   #download   \n",
       "\n",
       "                                          canal_link  view_counts  \\\n",
       "0  https://www.youtube.com/channel/UCair-JZ6XmtJk...     226613.0   \n",
       "1  https://www.youtube.com/hashtag/machinelearnin...      53263.0   \n",
       "2            https://www.youtube.com/hashtag/edureka     142715.0   \n",
       "3               https://www.youtube.com/hashtag/data     776910.0   \n",
       "4           https://www.youtube.com/hashtag/download       2290.0   \n",
       "\n",
       "           video_date                       like                     dislike  \\\n",
       "0  25 de fev. de 2021   2.729 marcações \"Gostei\"   33 marcações \"Não gostei\"   \n",
       "1   3 de set. de 2018   1.407 marcações \"Gostei\"   27 marcações \"Não gostei\"   \n",
       "2  15 de mar. de 2020   3.990 marcações \"Gostei\"   57 marcações \"Não gostei\"   \n",
       "3  14 de ago. de 2018  12.316 marcações \"Gostei\"  431 marcações \"Não gostei\"   \n",
       "4  23 de mar. de 2020      66 marcações \"Gostei\"  Sem marcações \"Não gostei\"   \n",
       "\n",
       "     y  \n",
       "0  0.0  \n",
       "1  0.0  \n",
       "2  0.0  \n",
       "3  0.0  \n",
       "4  1.0  "
      ],
      "text/html": "<div>\n<style scoped>\n    .dataframe tbody tr th:only-of-type {\n        vertical-align: middle;\n    }\n\n    .dataframe tbody tr th {\n        vertical-align: top;\n    }\n\n    .dataframe thead th {\n        text-align: right;\n    }\n</style>\n<table border=\"1\" class=\"dataframe\">\n  <thead>\n    <tr style=\"text-align: right;\">\n      <th></th>\n      <th>link</th>\n      <th>title</th>\n      <th>canal_nome</th>\n      <th>canal_link</th>\n      <th>view_counts</th>\n      <th>video_date</th>\n      <th>like</th>\n      <th>dislike</th>\n      <th>y</th>\n    </tr>\n  </thead>\n  <tbody>\n    <tr>\n      <th>0</th>\n      <td>https://www.youtube.com/watch?v=-0WQnwNFqJM</td>\n      <td>AI learns to Speedrun QWOP using Machine Learning</td>\n      <td>Wesley Liao</td>\n      <td>https://www.youtube.com/channel/UCair-JZ6XmtJk...</td>\n      <td>226613.0</td>\n      <td>25 de fev. de 2021</td>\n      <td>2.729 marcações \"Gostei\"</td>\n      <td>33 marcações \"Não gostei\"</td>\n      <td>0.0</td>\n    </tr>\n    <tr>\n      <th>1</th>\n      <td>https://www.youtube.com/watch?v=-5hEYRt8JE0</td>\n      <td>How to Become A Machine Learning Engineer | Ho...</td>\n      <td>#MachineLearningAlgorithms</td>\n      <td>https://www.youtube.com/hashtag/machinelearnin...</td>\n      <td>53263.0</td>\n      <td>3 de set. de 2018</td>\n      <td>1.407 marcações \"Gostei\"</td>\n      <td>27 marcações \"Não gostei\"</td>\n      <td>0.0</td>\n    </tr>\n    <tr>\n      <th>2</th>\n      <td>https://www.youtube.com/watch?v=-6RqxhNO2yY</td>\n      <td>Python For Data Science Full Course - 9 Hours ...</td>\n      <td>#edureka</td>\n      <td>https://www.youtube.com/hashtag/edureka</td>\n      <td>142715.0</td>\n      <td>15 de mar. de 2020</td>\n      <td>3.990 marcações \"Gostei\"</td>\n      <td>57 marcações \"Não gostei\"</td>\n      <td>0.0</td>\n    </tr>\n    <tr>\n      <th>3</th>\n      <td>https://www.youtube.com/watch?v=-AkBfBWr_Gw</td>\n      <td>Can You Become a Data Scientist?</td>\n      <td>#data</td>\n      <td>https://www.youtube.com/hashtag/data</td>\n      <td>776910.0</td>\n      <td>14 de ago. de 2018</td>\n      <td>12.316 marcações \"Gostei\"</td>\n      <td>431 marcações \"Não gostei\"</td>\n      <td>0.0</td>\n    </tr>\n    <tr>\n      <th>4</th>\n      <td>https://www.youtube.com/watch?v=-DDrE6T0ct4</td>\n      <td>Binary Image Classification with CNN (Deep Lea...</td>\n      <td>#download</td>\n      <td>https://www.youtube.com/hashtag/download</td>\n      <td>2290.0</td>\n      <td>23 de mar. de 2020</td>\n      <td>66 marcações \"Gostei\"</td>\n      <td>Sem marcações \"Não gostei\"</td>\n      <td>1.0</td>\n    </tr>\n  </tbody>\n</table>\n</div>"
     },
     "metadata": {},
     "execution_count": 2
    }
   ],
   "source": [
    "df = pd.read_excel('raw_data_with_full_label.xlsx', sheet_name='links', index_col=0).dropna(subset=['y'])\n",
    "df.head()"
   ]
  },
  {
   "cell_type": "code",
   "execution_count": 3,
   "metadata": {},
   "outputs": [],
   "source": [
    "df.dropna(inplace=True)"
   ]
  },
  {
   "cell_type": "code",
   "execution_count": 4,
   "metadata": {},
   "outputs": [
    {
     "output_type": "stream",
     "name": "stdout",
     "text": [
      "<class 'pandas.core.frame.DataFrame'>\nInt64Index: 1452 entries, 0 to 1766\nData columns (total 9 columns):\n #   Column       Non-Null Count  Dtype  \n---  ------       --------------  -----  \n 0   link         1452 non-null   object \n 1   title        1452 non-null   object \n 2   canal_nome   1452 non-null   object \n 3   canal_link   1452 non-null   object \n 4   view_counts  1452 non-null   float64\n 5   video_date   1452 non-null   object \n 6   like         1452 non-null   object \n 7   dislike      1452 non-null   object \n 8   y            1452 non-null   float64\ndtypes: float64(2), object(7)\nmemory usage: 113.4+ KB\n"
     ]
    }
   ],
   "source": [
    "df.info()"
   ]
  },
  {
   "cell_type": "code",
   "execution_count": 5,
   "metadata": {},
   "outputs": [],
   "source": [
    "df_limpo = pd.DataFrame(index=df.index)\n",
    "df_limpo['title'] = df['title']\n",
    "df_limpo['views'] = df['view_counts']"
   ]
  },
  {
   "cell_type": "code",
   "execution_count": 6,
   "metadata": {},
   "outputs": [],
   "source": [
    "clean_date = df['video_date'].str.extract(r'(\\d+) de (\\w+)\\. de (\\d+)')\n",
    "clean_date[0] = clean_date[0].map(lambda x: \"0\"+ x[0] if len(x[0]) == 1 else x)\n",
    "\n",
    "mapa_meses = {\n",
    "    'jan': 'Jan',\n",
    "    'fev': 'Feb',\n",
    "    'mar': 'Mar',\n",
    "    'abr': 'Apr',\n",
    "    'mai': 'May',\n",
    "    'jun': 'Jun',\n",
    "    'jul': 'Jul',\n",
    "    'ago': 'Aug',\n",
    "    'set': 'Sep',\n",
    "    'out': 'Oct',\n",
    "    'nov': 'Nov',\n",
    "    'dez': 'Dec'\n",
    "}\n",
    "\n",
    "clean_date[1] = clean_date[1].map(mapa_meses)\n",
    "clean_date = clean_date.apply(lambda x: ' '.join(x), axis=1)\n",
    "clean_date.head()\n",
    "df_limpo['date'] = pd.to_datetime(clean_date, format='%d %b %Y')"
   ]
  },
  {
   "cell_type": "code",
   "execution_count": 7,
   "metadata": {},
   "outputs": [],
   "source": [
    "indexs = df_limpo['date'].loc[df_limpo['date'].dt.year < 2018].index.values\n",
    "\n",
    "df_limpo.drop(index=indexs, axis='rows', inplace=True)\n",
    "df.drop(index=indexs, axis='rows', inplace=True)"
   ]
  },
  {
   "cell_type": "code",
   "execution_count": 8,
   "metadata": {},
   "outputs": [
    {
     "output_type": "execute_result",
     "data": {
      "text/plain": [
       "((1307, 3), (1307, 9))"
      ]
     },
     "metadata": {},
     "execution_count": 8
    }
   ],
   "source": [
    "df_limpo.shape, df.shape"
   ]
  },
  {
   "cell_type": "code",
   "execution_count": 9,
   "metadata": {},
   "outputs": [],
   "source": [
    "features = pd.DataFrame(index=df_limpo.index)\n",
    "y = df['y'].copy()\n",
    "\n",
    "features['tempo_desde_pub'] = (pd.to_datetime('2021-03-18') - df_limpo['date']) / np.timedelta64(1, 'D')\n",
    "features['views'] = df_limpo['views']\n",
    "features['views_por_dia'] = features['views'] / features['tempo_desde_pub']\n",
    "features.drop(columns=['tempo_desde_pub'], inplace=True)"
   ]
  },
  {
   "cell_type": "code",
   "execution_count": 10,
   "metadata": {},
   "outputs": [
    {
     "output_type": "execute_result",
     "data": {
      "text/plain": [
       "'2020-03-02'"
      ]
     },
     "metadata": {},
     "execution_count": 10
    }
   ],
   "source": [
    "qtd = len(df_limpo['date'])\n",
    "meio = qtd // 2 if qtd % 2 == 0 else (qtd // 2) + 1\n",
    "date = str(pd.Timestamp(df_limpo.sort_values(by='date')['date'].values[meio]).date())\n",
    "date"
   ]
  },
  {
   "cell_type": "code",
   "execution_count": 11,
   "metadata": {},
   "outputs": [
    {
     "output_type": "execute_result",
     "data": {
      "text/plain": [
       "((645, 2), (662, 2), (645,), (662,))"
      ]
     },
     "metadata": {},
     "execution_count": 11
    }
   ],
   "source": [
    "mask_train = (df_limpo['date'] < date)\n",
    "mask_val = (df_limpo['date'] >= date)\n",
    "\n",
    "X_train, X_val = features[mask_train], features[mask_val]\n",
    "y_train, y_val = y[mask_train], y[mask_val]\n",
    "X_train.shape, X_val.shape, y_train.shape, y_val.shape"
   ]
  },
  {
   "cell_type": "code",
   "execution_count": 12,
   "metadata": {},
   "outputs": [],
   "source": [
    "from sklearn.feature_extraction.text import TfidfVectorizer\n",
    "\n",
    "title_train = df_limpo[mask_train]['title']\n",
    "title_val = df_limpo[mask_val]['title']\n",
    "\n",
    "title_vec = TfidfVectorizer(min_df=2, ngram_range=(1,4))\n",
    "title_bow_train = title_vec.fit_transform(title_train)\n",
    "title_bow_val = title_vec.transform(title_val)"
   ]
  },
  {
   "cell_type": "code",
   "execution_count": 13,
   "metadata": {},
   "outputs": [
    {
     "output_type": "execute_result",
     "data": {
      "text/plain": [
       "((645, 1548), (662, 1548))"
      ]
     },
     "metadata": {},
     "execution_count": 13
    }
   ],
   "source": [
    "title_bow_train.shape, title_bow_val.shape"
   ]
  },
  {
   "cell_type": "code",
   "execution_count": 14,
   "metadata": {},
   "outputs": [],
   "source": [
    "from scipy.sparse import hstack\n",
    "\n",
    "Xtrain_wtitle = hstack([X_train, title_bow_train])\n",
    "Xval_wtitle = hstack([X_val, title_bow_val])"
   ]
  },
  {
   "cell_type": "code",
   "execution_count": 15,
   "metadata": {},
   "outputs": [
    {
     "output_type": "execute_result",
     "data": {
      "text/plain": [
       "((645, 1550), (662, 1550))"
      ]
     },
     "metadata": {},
     "execution_count": 15
    }
   ],
   "source": [
    "Xtrain_wtitle.shape, Xval_wtitle.shape"
   ]
  },
  {
   "cell_type": "code",
   "execution_count": 16,
   "metadata": {},
   "outputs": [
    {
     "output_type": "execute_result",
     "data": {
      "text/plain": [
       "RandomForestClassifier(class_weight='balanced', n_estimators=1000, n_jobs=6,\n",
       "                       random_state=0)"
      ]
     },
     "metadata": {},
     "execution_count": 16
    }
   ],
   "source": [
    "from sklearn.ensemble import RandomForestClassifier\n",
    "\n",
    "mdl = RandomForestClassifier(n_estimators=1000, random_state=0,min_samples_leaf=1, class_weight='balanced', n_jobs=6)\n",
    "mdl.fit(Xtrain_wtitle, y_train)"
   ]
  },
  {
   "cell_type": "code",
   "execution_count": 17,
   "metadata": {},
   "outputs": [],
   "source": [
    "p = mdl.predict_proba(Xval_wtitle)[:,1]"
   ]
  },
  {
   "cell_type": "code",
   "execution_count": 18,
   "metadata": {},
   "outputs": [],
   "source": [
    "from sklearn.metrics import roc_auc_score, average_precision_score"
   ]
  },
  {
   "cell_type": "code",
   "execution_count": 19,
   "metadata": {},
   "outputs": [
    {
     "output_type": "execute_result",
     "data": {
      "text/plain": [
       "0.2701322613168307"
      ]
     },
     "metadata": {},
     "execution_count": 19
    }
   ],
   "source": [
    "average_precision_score(y_val, p)"
   ]
  },
  {
   "cell_type": "code",
   "execution_count": 20,
   "metadata": {},
   "outputs": [
    {
     "output_type": "execute_result",
     "data": {
      "text/plain": [
       "0.7720751633986929"
      ]
     },
     "metadata": {},
     "execution_count": 20
    }
   ],
   "source": [
    "roc_auc_score(y_val, p)"
   ]
  },
  {
   "source": [
    "app 0.24665776077736257 auc 0.7577614379084967 - min_samples_leaf=1 n_estimator=1000 mind_df=1\n",
    "\n",
    "ap 0.27324126525332704 auc 0.75640522875817 - min_samples_leaf=1 n_estimator=1000 min_df=2\n",
    "\n",
    "ap 0.2701322613168307 auc 0.7720751633986929 - min_samples_leaf=1 n_estimator=1000 min_df=2 ngram_range(1,4)\n",
    "\n",
    "app 0.22272884695198775 auc 0.6977777777777777 - min_samples_leaf=1 n_estimator=1000 min_df=3\n",
    "\n",
    "ap 0.23694506856984365 auc 0.7427777777777778 - min_samples_leaf=2 n_estimator=1000 min_df=2\n",
    "\n",
    "ap 0.21993029679545967 auc 0.7484313725490197 - min_samples_leaf=3 n_estimator=1000 min_df=2\n",
    "\n",
    " ap 0.27622068626834806 auc 0.7574836601307189 - min_samples_leaf=1 n_estimator=100 min_df=2\n",
    "\n",
    " ap 0.21318808251531807 auc 0.7309150326797386 - min_samples_leaf=2 n_estimator=100 min_df=2"
   ],
   "cell_type": "markdown",
   "metadata": {}
  },
  {
   "source": [
    "## LightGBM"
   ],
   "cell_type": "markdown",
   "metadata": {}
  },
  {
   "cell_type": "code",
   "execution_count": 21,
   "metadata": {},
   "outputs": [
    {
     "output_type": "stream",
     "name": "stdout",
     "text": [
      "Requirement already satisfied: lightgbm in d:\\users\\angel\\anaconda3\\lib\\site-packages (3.2.0)\nRequirement already satisfied: scipy in d:\\users\\angel\\anaconda3\\lib\\site-packages (from lightgbm) (1.5.2)\nRequirement already satisfied: scikit-learn!=0.22.0 in d:\\users\\angel\\anaconda3\\lib\\site-packages (from lightgbm) (0.23.2)\nRequirement already satisfied: numpy in d:\\users\\angel\\anaconda3\\lib\\site-packages (from lightgbm) (1.19.2)\nRequirement already satisfied: wheel in d:\\users\\angel\\anaconda3\\lib\\site-packages (from lightgbm) (0.35.1)\nRequirement already satisfied: joblib>=0.11 in d:\\users\\angel\\anaconda3\\lib\\site-packages (from scikit-learn!=0.22.0->lightgbm) (0.17.0)\nRequirement already satisfied: threadpoolctl>=2.0.0 in d:\\users\\angel\\anaconda3\\lib\\site-packages (from scikit-learn!=0.22.0->lightgbm) (2.1.0)\n"
     ]
    }
   ],
   "source": [
    "!pip install lightgbm"
   ]
  },
  {
   "cell_type": "code",
   "execution_count": 22,
   "metadata": {},
   "outputs": [],
   "source": [
    "from lightgbm import LGBMClassifier"
   ]
  },
  {
   "cell_type": "code",
   "execution_count": 23,
   "metadata": {},
   "outputs": [
    {
     "output_type": "execute_result",
     "data": {
      "text/plain": [
       "LGBMClassifier(class_weight='balanced', n_jobs=6, random_state=0)"
      ]
     },
     "metadata": {},
     "execution_count": 23
    }
   ],
   "source": [
    "mdl = LGBMClassifier(random_state=0, class_weight='balanced', n_jobs=6)\n",
    "mdl.fit(Xtrain_wtitle, y_train)"
   ]
  },
  {
   "cell_type": "code",
   "execution_count": 24,
   "metadata": {},
   "outputs": [
    {
     "output_type": "stream",
     "name": "stderr",
     "text": [
      "D:\\Users\\angel\\Anaconda3\\lib\\site-packages\\lightgbm\\basic.py:739: UserWarning: Converting data to scipy sparse matrix.\n  _log_warning('Converting data to scipy sparse matrix.')\n"
     ]
    }
   ],
   "source": [
    "p = mdl.predict_proba(Xval_wtitle)[:,1]"
   ]
  },
  {
   "cell_type": "code",
   "execution_count": 25,
   "metadata": {},
   "outputs": [
    {
     "output_type": "execute_result",
     "data": {
      "text/plain": [
       "0.13568143704270252"
      ]
     },
     "metadata": {},
     "execution_count": 25
    }
   ],
   "source": [
    "average_precision_score(y_val, p)"
   ]
  },
  {
   "cell_type": "code",
   "execution_count": 26,
   "metadata": {},
   "outputs": [
    {
     "output_type": "execute_result",
     "data": {
      "text/plain": [
       "0.663611111111111"
      ]
     },
     "metadata": {},
     "execution_count": 26
    }
   ],
   "source": [
    "roc_auc_score(y_val, p)"
   ]
  },
  {
   "source": [
    "## Bayesian Optimization"
   ],
   "cell_type": "markdown",
   "metadata": {}
  },
  {
   "cell_type": "code",
   "execution_count": 27,
   "metadata": {},
   "outputs": [
    {
     "output_type": "stream",
     "name": "stdout",
     "text": [
      "Requirement already satisfied: scikit-optimize in d:\\users\\angel\\anaconda3\\lib\\site-packages (0.8.1)\nRequirement already satisfied: pyaml>=16.9 in d:\\users\\angel\\anaconda3\\lib\\site-packages (from scikit-optimize) (20.4.0)\nRequirement already satisfied: numpy>=1.13.3 in d:\\users\\angel\\anaconda3\\lib\\site-packages (from scikit-optimize) (1.19.2)\nRequirement already satisfied: scikit-learn>=0.20.0 in d:\\users\\angel\\anaconda3\\lib\\site-packages (from scikit-optimize) (0.23.2)\nRequirement already satisfied: scipy>=0.19.1 in d:\\users\\angel\\anaconda3\\lib\\site-packages (from scikit-optimize) (1.5.2)\nRequirement already satisfied: joblib>=0.11 in d:\\users\\angel\\anaconda3\\lib\\site-packages (from scikit-optimize) (0.17.0)\nRequirement already satisfied: PyYAML in d:\\users\\angel\\anaconda3\\lib\\site-packages (from pyaml>=16.9->scikit-optimize) (5.3.1)\nRequirement already satisfied: threadpoolctl>=2.0.0 in d:\\users\\angel\\anaconda3\\lib\\site-packages (from scikit-learn>=0.20.0->scikit-optimize) (2.1.0)\n"
     ]
    }
   ],
   "source": [
    "!pip install scikit-optimize"
   ]
  },
  {
   "cell_type": "code",
   "execution_count": 28,
   "metadata": {},
   "outputs": [],
   "source": [
    "def tune_lgbm(params: dict):\n",
    "    print(params)\n",
    "\n",
    "    lr = params[0]\n",
    "    max_depth = params[1]\n",
    "    min_child_samples = params[2]\n",
    "    subsample = params[3]\n",
    "    colsample_bytree = params[4]\n",
    "    n_estimator = params[5]\n",
    "    min_df = params[6]\n",
    "    ngram_range = (1, params[7])\n",
    "\n",
    "    title_vec = TfidfVectorizer(min_df=min_df, ngram_range=ngram_range)\n",
    "    title_bow_train = title_vec.fit_transform(title_train)\n",
    "    title_bow_val = title_vec.transform(title_val)\n",
    "\n",
    "    Xtrain_wtitle = hstack([X_train, title_bow_train])\n",
    "    Xval_wtitle = hstack([X_val, title_bow_val])\n",
    "\n",
    "    mdl = LGBMClassifier(learning_rate=lr, num_leaves=2**max_depth, max_depth=max_depth, min_child_samples=min_child_samples, subsample=subsample, colsample_bytree=colsample_bytree, bagging_freq=1, n_estimators=n_estimator, random_state=0, class_weight='balanced', n_jobs=6)\n",
    "\n",
    "    mdl.fit(Xtrain_wtitle, y_train)\n",
    "\n",
    "    p = mdl.predict_proba(Xval_wtitle)[:,1]\n",
    "    print(roc_auc_score(y_val, p))\n",
    "\n",
    "    return -average_precision_score(y_val, p)"
   ]
  },
  {
   "cell_type": "code",
   "execution_count": 29,
   "metadata": {
    "tags": [
     "outputPrepend"
    ]
   },
   "outputs": [
    {
     "output_type": "stream",
     "name": "stdout",
     "text": [
      "77645206, 312, 4, 3]\n",
      "[LightGBM] [Warning] bagging_freq is set=1, subsample_freq=0 will be ignored. Current value: bagging_freq=1\n",
      "D:\\Users\\angel\\Anaconda3\\lib\\site-packages\\lightgbm\\basic.py:739: UserWarning: Converting data to scipy sparse matrix.\n",
      "  _log_warning('Converting data to scipy sparse matrix.')\n",
      "0.666830065359477\n",
      "Iteration No: 17 ended. Evaluation done at random point.\n",
      "Time taken: 6.3013\n",
      "Function value obtained: -0.1615\n",
      "Current minimum: -0.2251\n",
      "Iteration No: 18 started. Evaluating function at random point.\n",
      "[0.004955229758078229, 5, 5, 0.06939551310802591, 0.4193273080472823, 725, 4, 1]\n",
      "[LightGBM] [Warning] bagging_freq is set=1, subsample_freq=0 will be ignored. Current value: bagging_freq=1\n",
      "D:\\Users\\angel\\Anaconda3\\lib\\site-packages\\lightgbm\\basic.py:739: UserWarning: Converting data to scipy sparse matrix.\n",
      "  _log_warning('Converting data to scipy sparse matrix.')\n",
      "0.6517973856209149\n",
      "Iteration No: 18 ended. Evaluation done at random point.\n",
      "Time taken: 0.2613\n",
      "Function value obtained: -0.1245\n",
      "Current minimum: -0.2251\n",
      "Iteration No: 19 started. Evaluating function at random point.\n",
      "[0.0699516121742407, 11, 9, 0.22351444794819092, 0.9946871410890346, 947, 5, 1]\n",
      "[LightGBM] [Warning] bagging_freq is set=1, subsample_freq=0 will be ignored. Current value: bagging_freq=1\n",
      "D:\\Users\\angel\\Anaconda3\\lib\\site-packages\\lightgbm\\basic.py:739: UserWarning: Converting data to scipy sparse matrix.\n",
      "  _log_warning('Converting data to scipy sparse matrix.')\n",
      "0.5458823529411765\n",
      "Iteration No: 19 ended. Evaluation done at random point.\n",
      "Time taken: 0.8374\n",
      "Function value obtained: -0.0927\n",
      "Current minimum: -0.2251\n",
      "Iteration No: 20 started. Evaluating function at random point.\n",
      "[0.004955402904180171, 6, 1, 0.13021457554920057, 0.6158804906347372, 615, 3, 4]\n",
      "[LightGBM] [Warning] bagging_freq is set=1, subsample_freq=0 will be ignored. Current value: bagging_freq=1\n",
      "D:\\Users\\angel\\Anaconda3\\lib\\site-packages\\lightgbm\\basic.py:739: UserWarning: Converting data to scipy sparse matrix.\n",
      "  _log_warning('Converting data to scipy sparse matrix.')\n",
      "0.6854575163398693\n",
      "Iteration No: 20 ended. Evaluation done at random point.\n",
      "Time taken: 0.8272\n",
      "Function value obtained: -0.1620\n",
      "Current minimum: -0.2251\n",
      "Iteration No: 21 started. Searching for the next optimal point.\n",
      "[0.07631441669014805, 2, 4, 0.2845330707514776, 0.1767487597758643, 203, 2, 5]\n",
      "[LightGBM] [Warning] bagging_freq is set=1, subsample_freq=0 will be ignored. Current value: bagging_freq=1\n",
      "0.7152287581699346\n",
      "D:\\Users\\angel\\Anaconda3\\lib\\site-packages\\lightgbm\\basic.py:739: UserWarning: Converting data to scipy sparse matrix.\n",
      "  _log_warning('Converting data to scipy sparse matrix.')\n",
      "Iteration No: 21 ended. Search finished for the next optimal point.\n",
      "Time taken: 0.4023\n",
      "Function value obtained: -0.2190\n",
      "Current minimum: -0.2251\n",
      "Iteration No: 22 started. Searching for the next optimal point.\n",
      "[0.011144682437501488, 2, 5, 0.890697915175696, 0.06794603708438668, 246, 3, 4]\n",
      "[LightGBM] [Warning] bagging_freq is set=1, subsample_freq=0 will be ignored. Current value: bagging_freq=1\n",
      "0.7532679738562091\n",
      "D:\\Users\\angel\\Anaconda3\\lib\\site-packages\\lightgbm\\basic.py:739: UserWarning: Converting data to scipy sparse matrix.\n",
      "  _log_warning('Converting data to scipy sparse matrix.')\n",
      "Iteration No: 22 ended. Search finished for the next optimal point.\n",
      "Time taken: 0.3285\n",
      "Function value obtained: -0.2490\n",
      "Current minimum: -0.2490\n",
      "Iteration No: 23 started. Searching for the next optimal point.\n",
      "[0.0803729839368649, 3, 12, 0.6113682809567806, 0.07564358994504791, 166, 3, 5]\n",
      "[LightGBM] [Warning] bagging_freq is set=1, subsample_freq=0 will be ignored. Current value: bagging_freq=1\n",
      "0.7298692810457517\n",
      "D:\\Users\\angel\\Anaconda3\\lib\\site-packages\\lightgbm\\basic.py:739: UserWarning: Converting data to scipy sparse matrix.\n",
      "  _log_warning('Converting data to scipy sparse matrix.')\n",
      "Iteration No: 23 ended. Search finished for the next optimal point.\n",
      "Time taken: 0.3260\n",
      "Function value obtained: -0.1977\n",
      "Current minimum: -0.2490\n",
      "Iteration No: 24 started. Searching for the next optimal point.\n",
      "[0.07931028551423348, 1, 5, 0.9204080490211427, 0.29125331333877, 290, 1, 4]\n",
      "[LightGBM] [Warning] bagging_freq is set=1, subsample_freq=0 will be ignored. Current value: bagging_freq=1\n",
      "0.7014542483660131\n",
      "D:\\Users\\angel\\Anaconda3\\lib\\site-packages\\lightgbm\\basic.py:739: UserWarning: Converting data to scipy sparse matrix.\n",
      "  _log_warning('Converting data to scipy sparse matrix.')\n",
      "Iteration No: 24 ended. Search finished for the next optimal point.\n",
      "Time taken: 0.4010\n",
      "Function value obtained: -0.2004\n",
      "Current minimum: -0.2490\n",
      "Iteration No: 25 started. Searching for the next optimal point.\n",
      "[0.009201029162929003, 2, 7, 0.91917373989975, 0.09535065939073513, 225, 3, 4]\n",
      "[LightGBM] [Warning] bagging_freq is set=1, subsample_freq=0 will be ignored. Current value: bagging_freq=1\n",
      "0.7371078431372549\n",
      "D:\\Users\\angel\\Anaconda3\\lib\\site-packages\\lightgbm\\basic.py:739: UserWarning: Converting data to scipy sparse matrix.\n",
      "  _log_warning('Converting data to scipy sparse matrix.')\n",
      "Iteration No: 25 ended. Search finished for the next optimal point.\n",
      "Time taken: 0.4058\n",
      "Function value obtained: -0.2254\n",
      "Current minimum: -0.2490\n",
      "Iteration No: 26 started. Searching for the next optimal point.\n",
      "[0.0014144800395539717, 3, 12, 0.9744088955454363, 0.0612967463477031, 199, 5, 4]\n",
      "[LightGBM] [Warning] bagging_freq is set=1, subsample_freq=0 will be ignored. Current value: bagging_freq=1\n",
      "0.6926470588235294\n",
      "D:\\Users\\angel\\Anaconda3\\lib\\site-packages\\lightgbm\\basic.py:739: UserWarning: Converting data to scipy sparse matrix.\n",
      "  _log_warning('Converting data to scipy sparse matrix.')\n",
      "Iteration No: 26 ended. Search finished for the next optimal point.\n",
      "Time taken: 0.3616\n",
      "Function value obtained: -0.1811\n",
      "Current minimum: -0.2490\n",
      "Iteration No: 27 started. Searching for the next optimal point.\n",
      "[0.009343263418991743, 2, 8, 0.8734260316904745, 0.13335185421261708, 318, 2, 4]\n",
      "[LightGBM] [Warning] bagging_freq is set=1, subsample_freq=0 will be ignored. Current value: bagging_freq=1\n",
      "0.6929901960784315\n",
      "D:\\Users\\angel\\Anaconda3\\lib\\site-packages\\lightgbm\\basic.py:739: UserWarning: Converting data to scipy sparse matrix.\n",
      "  _log_warning('Converting data to scipy sparse matrix.')\n",
      "Iteration No: 27 ended. Search finished for the next optimal point.\n",
      "Time taken: 0.3636\n",
      "Function value obtained: -0.2349\n",
      "Current minimum: -0.2490\n",
      "Iteration No: 28 started. Searching for the next optimal point.\n",
      "[0.002456137791421086, 1, 2, 0.8601276745637565, 0.25142244454444035, 359, 3, 4]\n",
      "[LightGBM] [Warning] bagging_freq is set=1, subsample_freq=0 will be ignored. Current value: bagging_freq=1\n",
      "0.7322549019607842\n",
      "D:\\Users\\angel\\Anaconda3\\lib\\site-packages\\lightgbm\\basic.py:739: UserWarning: Converting data to scipy sparse matrix.\n",
      "  _log_warning('Converting data to scipy sparse matrix.')\n",
      "Iteration No: 28 ended. Search finished for the next optimal point.\n",
      "Time taken: 0.4142\n",
      "Function value obtained: -0.2121\n",
      "Current minimum: -0.2490\n",
      "Iteration No: 29 started. Searching for the next optimal point.\n",
      "[0.016988538115658026, 1, 6, 0.08456610810931396, 0.12887708256384675, 334, 5, 5]\n",
      "[LightGBM] [Warning] bagging_freq is set=1, subsample_freq=0 will be ignored. Current value: bagging_freq=1\n",
      "0.6393300653594772\n",
      "D:\\Users\\angel\\Anaconda3\\lib\\site-packages\\lightgbm\\basic.py:739: UserWarning: Converting data to scipy sparse matrix.\n",
      "  _log_warning('Converting data to scipy sparse matrix.')\n",
      "Iteration No: 29 ended. Search finished for the next optimal point.\n",
      "Time taken: 0.3932\n",
      "Function value obtained: -0.1220\n",
      "Current minimum: -0.2490\n",
      "Iteration No: 30 started. Searching for the next optimal point.\n",
      "[0.02780723398036117, 3, 9, 0.9705036539993004, 0.0957264444877153, 373, 2, 1]\n",
      "[LightGBM] [Warning] bagging_freq is set=1, subsample_freq=0 will be ignored. Current value: bagging_freq=1\n",
      "0.6619281045751634\n",
      "D:\\Users\\angel\\Anaconda3\\lib\\site-packages\\lightgbm\\basic.py:739: UserWarning: Converting data to scipy sparse matrix.\n",
      "  _log_warning('Converting data to scipy sparse matrix.')\n",
      "Iteration No: 30 ended. Search finished for the next optimal point.\n",
      "Time taken: 0.3295\n",
      "Function value obtained: -0.1634\n",
      "Current minimum: -0.2490\n",
      "Iteration No: 31 started. Searching for the next optimal point.\n",
      "[0.0219057637721878, 2, 9, 0.33289182763478803, 0.07818855247644779, 337, 2, 4]\n",
      "[LightGBM] [Warning] bagging_freq is set=1, subsample_freq=0 will be ignored. Current value: bagging_freq=1\n",
      "0.6657516339869282\n",
      "D:\\Users\\angel\\Anaconda3\\lib\\site-packages\\lightgbm\\basic.py:739: UserWarning: Converting data to scipy sparse matrix.\n",
      "  _log_warning('Converting data to scipy sparse matrix.')\n",
      "Iteration No: 31 ended. Search finished for the next optimal point.\n",
      "Time taken: 0.4100\n",
      "Function value obtained: -0.2034\n",
      "Current minimum: -0.2490\n",
      "Iteration No: 32 started. Searching for the next optimal point.\n",
      "[0.003576506731104972, 2, 12, 0.9882160262493556, 0.2136164048040199, 276, 3, 5]\n",
      "[LightGBM] [Warning] bagging_freq is set=1, subsample_freq=0 will be ignored. Current value: bagging_freq=1\n",
      "0.7372875816993463\n",
      "D:\\Users\\angel\\Anaconda3\\lib\\site-packages\\lightgbm\\basic.py:739: UserWarning: Converting data to scipy sparse matrix.\n",
      "  _log_warning('Converting data to scipy sparse matrix.')\n",
      "Iteration No: 32 ended. Search finished for the next optimal point.\n",
      "Time taken: 0.3481\n",
      "Function value obtained: -0.2221\n",
      "Current minimum: -0.2490\n",
      "Iteration No: 33 started. Searching for the next optimal point.\n",
      "[0.02034648041656167, 2, 6, 0.8795607362883219, 0.060661180359785113, 237, 4, 4]\n",
      "[LightGBM] [Warning] bagging_freq is set=1, subsample_freq=0 will be ignored. Current value: bagging_freq=1\n",
      "0.7238398692810457\n",
      "D:\\Users\\angel\\Anaconda3\\lib\\site-packages\\lightgbm\\basic.py:739: UserWarning: Converting data to scipy sparse matrix.\n",
      "  _log_warning('Converting data to scipy sparse matrix.')\n",
      "Iteration No: 33 ended. Search finished for the next optimal point.\n",
      "Time taken: 0.3422\n",
      "Function value obtained: -0.1912\n",
      "Current minimum: -0.2490\n",
      "Iteration No: 34 started. Searching for the next optimal point.\n",
      "[0.0012097781274382382, 2, 20, 0.9724511598300523, 0.28229617626394, 205, 3, 5]\n",
      "[LightGBM] [Warning] bagging_freq is set=1, subsample_freq=0 will be ignored. Current value: bagging_freq=1\n",
      "0.7115196078431373\n",
      "D:\\Users\\angel\\Anaconda3\\lib\\site-packages\\lightgbm\\basic.py:739: UserWarning: Converting data to scipy sparse matrix.\n",
      "  _log_warning('Converting data to scipy sparse matrix.')\n",
      "Iteration No: 34 ended. Search finished for the next optimal point.\n",
      "Time taken: 0.3987\n",
      "Function value obtained: -0.1642\n",
      "Current minimum: -0.2490\n",
      "Iteration No: 35 started. Searching for the next optimal point.\n",
      "[0.01183364378897925, 9, 6, 0.8699006906701094, 0.12202354792085568, 380, 3, 4]\n",
      "[LightGBM] [Warning] bagging_freq is set=1, subsample_freq=0 will be ignored. Current value: bagging_freq=1\n",
      "D:\\Users\\angel\\Anaconda3\\lib\\site-packages\\lightgbm\\basic.py:739: UserWarning: Converting data to scipy sparse matrix.\n",
      "  _log_warning('Converting data to scipy sparse matrix.')\n",
      "0.6791503267973856\n",
      "Iteration No: 35 ended. Search finished for the next optimal point.\n",
      "Time taken: 0.6114\n",
      "Function value obtained: -0.1786\n",
      "Current minimum: -0.2490\n",
      "Iteration No: 36 started. Searching for the next optimal point.\n",
      "[0.00265191967636883, 1, 7, 0.9998459249759789, 0.10799555073315381, 315, 3, 5]\n",
      "[LightGBM] [Warning] bagging_freq is set=1, subsample_freq=0 will be ignored. Current value: bagging_freq=1\n",
      "0.7401960784313725\n",
      "D:\\Users\\angel\\Anaconda3\\lib\\site-packages\\lightgbm\\basic.py:739: UserWarning: Converting data to scipy sparse matrix.\n",
      "  _log_warning('Converting data to scipy sparse matrix.')\n",
      "Iteration No: 36 ended. Search finished for the next optimal point.\n",
      "Time taken: 0.3765\n",
      "Function value obtained: -0.2224\n",
      "Current minimum: -0.2490\n",
      "Iteration No: 37 started. Searching for the next optimal point.\n",
      "[0.004048104164100325, 2, 6, 0.06396030365245292, 0.14252962653878964, 380, 1, 4]\n",
      "[LightGBM] [Warning] bagging_freq is set=1, subsample_freq=0 will be ignored. Current value: bagging_freq=1\n",
      "0.7231535947712419\n",
      "D:\\Users\\angel\\Anaconda3\\lib\\site-packages\\lightgbm\\basic.py:739: UserWarning: Converting data to scipy sparse matrix.\n",
      "  _log_warning('Converting data to scipy sparse matrix.')\n",
      "Iteration No: 37 ended. Search finished for the next optimal point.\n",
      "Time taken: 0.4210\n",
      "Function value obtained: -0.1731\n",
      "Current minimum: -0.2490\n",
      "Iteration No: 38 started. Searching for the next optimal point.\n",
      "[0.015315696673266944, 1, 5, 0.32901428033381436, 0.1207292400527944, 245, 4, 5]\n",
      "[LightGBM] [Warning] bagging_freq is set=1, subsample_freq=0 will be ignored. Current value: bagging_freq=1\n",
      "0.7358006535947711\n",
      "D:\\Users\\angel\\Anaconda3\\lib\\site-packages\\lightgbm\\basic.py:739: UserWarning: Converting data to scipy sparse matrix.\n",
      "  _log_warning('Converting data to scipy sparse matrix.')\n",
      "Iteration No: 38 ended. Search finished for the next optimal point.\n",
      "Time taken: 0.4263\n",
      "Function value obtained: -0.1979\n",
      "Current minimum: -0.2490\n",
      "Iteration No: 39 started. Searching for the next optimal point.\n",
      "[0.001137580648988007, 2, 4, 0.8880261404242563, 0.2234450577982528, 300, 5, 5]\n",
      "[LightGBM] [Warning] bagging_freq is set=1, subsample_freq=0 will be ignored. Current value: bagging_freq=1\n",
      "0.7609803921568628\n",
      "D:\\Users\\angel\\Anaconda3\\lib\\site-packages\\lightgbm\\basic.py:739: UserWarning: Converting data to scipy sparse matrix.\n",
      "  _log_warning('Converting data to scipy sparse matrix.')\n",
      "Iteration No: 39 ended. Search finished for the next optimal point.\n",
      "Time taken: 0.4108\n",
      "Function value obtained: -0.2217\n",
      "Current minimum: -0.2490\n",
      "Iteration No: 40 started. Searching for the next optimal point.\n",
      "[0.00812928865325075, 3, 1, 0.9313107675903278, 0.24396484530399776, 227, 5, 4]\n",
      "[LightGBM] [Warning] bagging_freq is set=1, subsample_freq=0 will be ignored. Current value: bagging_freq=1\n",
      "0.7412254901960784\n",
      "D:\\Users\\angel\\Anaconda3\\lib\\site-packages\\lightgbm\\basic.py:739: UserWarning: Converting data to scipy sparse matrix.\n",
      "  _log_warning('Converting data to scipy sparse matrix.')\n",
      "Iteration No: 40 ended. Search finished for the next optimal point.\n",
      "Time taken: 0.4007\n",
      "Function value obtained: -0.1949\n",
      "Current minimum: -0.2490\n",
      "Iteration No: 41 started. Searching for the next optimal point.\n",
      "[0.009004826736889432, 2, 2, 0.748237486163575, 0.17566046023881804, 422, 3, 5]\n",
      "[LightGBM] [Warning] bagging_freq is set=1, subsample_freq=0 will be ignored. Current value: bagging_freq=1\n",
      "0.7563398692810458\n",
      "D:\\Users\\angel\\Anaconda3\\lib\\site-packages\\lightgbm\\basic.py:739: UserWarning: Converting data to scipy sparse matrix.\n",
      "  _log_warning('Converting data to scipy sparse matrix.')\n",
      "Iteration No: 41 ended. Search finished for the next optimal point.\n",
      "Time taken: 0.4557\n",
      "Function value obtained: -0.2254\n",
      "Current minimum: -0.2490\n",
      "Iteration No: 42 started. Searching for the next optimal point.\n",
      "[0.005680458275335635, 2, 2, 0.7388932070964989, 0.053659002160169, 516, 2, 4]\n",
      "[LightGBM] [Warning] bagging_freq is set=1, subsample_freq=0 will be ignored. Current value: bagging_freq=1\n",
      "D:\\Users\\angel\\Anaconda3\\lib\\site-packages\\lightgbm\\basic.py:739: UserWarning: Converting data to scipy sparse matrix.\n",
      "  _log_warning('Converting data to scipy sparse matrix.')\n",
      "0.733218954248366\n",
      "Iteration No: 42 ended. Search finished for the next optimal point.\n",
      "Time taken: 0.4835\n",
      "Function value obtained: -0.2312\n",
      "Current minimum: -0.2490\n",
      "Iteration No: 43 started. Searching for the next optimal point.\n",
      "[0.004209926590130177, 2, 3, 0.6768133929602569, 0.10186958887188091, 485, 2, 4]\n",
      "[LightGBM] [Warning] bagging_freq is set=1, subsample_freq=0 will be ignored. Current value: bagging_freq=1\n",
      "D:\\Users\\angel\\Anaconda3\\lib\\site-packages\\lightgbm\\basic.py:739: UserWarning: Converting data to scipy sparse matrix.\n",
      "  _log_warning('Converting data to scipy sparse matrix.')\n",
      "0.7298529411764706\n",
      "Iteration No: 43 ended. Search finished for the next optimal point.\n",
      "Time taken: 0.5193\n",
      "Function value obtained: -0.2186\n",
      "Current minimum: -0.2490\n",
      "Iteration No: 44 started. Searching for the next optimal point.\n",
      "[0.006144805918343504, 2, 5, 0.7257046869713172, 0.05786894561522081, 603, 1, 5]\n",
      "[LightGBM] [Warning] bagging_freq is set=1, subsample_freq=0 will be ignored. Current value: bagging_freq=1\n",
      "D:\\Users\\angel\\Anaconda3\\lib\\site-packages\\lightgbm\\basic.py:739: UserWarning: Converting data to scipy sparse matrix.\n",
      "  _log_warning('Converting data to scipy sparse matrix.')\n",
      "0.702467320261438\n",
      "Iteration No: 44 ended. Search finished for the next optimal point.\n",
      "Time taken: 0.5237\n",
      "Function value obtained: -0.1937\n",
      "Current minimum: -0.2490\n",
      "Iteration No: 45 started. Searching for the next optimal point.\n",
      "[0.005838525618933698, 2, 8, 0.8324450940202219, 0.14491543010670627, 818, 1, 4]\n",
      "[LightGBM] [Warning] bagging_freq is set=1, subsample_freq=0 will be ignored. Current value: bagging_freq=1\n",
      "D:\\Users\\angel\\Anaconda3\\lib\\site-packages\\lightgbm\\basic.py:739: UserWarning: Converting data to scipy sparse matrix.\n",
      "  _log_warning('Converting data to scipy sparse matrix.')\n",
      "0.7028431372549019\n",
      "Iteration No: 45 ended. Search finished for the next optimal point.\n",
      "Time taken: 0.5268\n",
      "Function value obtained: -0.2106\n",
      "Current minimum: -0.2490\n",
      "Iteration No: 46 started. Searching for the next optimal point.\n",
      "[0.002522312834322295, 2, 8, 0.7012366700515434, 0.17485012936149874, 896, 3, 4]\n",
      "[LightGBM] [Warning] bagging_freq is set=1, subsample_freq=0 will be ignored. Current value: bagging_freq=1\n",
      "D:\\Users\\angel\\Anaconda3\\lib\\site-packages\\lightgbm\\basic.py:739: UserWarning: Converting data to scipy sparse matrix.\n",
      "  _log_warning('Converting data to scipy sparse matrix.')\n",
      "0.746781045751634\n",
      "Iteration No: 46 ended. Search finished for the next optimal point.\n",
      "Time taken: 0.4926\n",
      "Function value obtained: -0.2244\n",
      "Current minimum: -0.2490\n",
      "Iteration No: 47 started. Searching for the next optimal point.\n",
      "[0.0109404497343726, 2, 6, 0.8737594763593559, 0.16127278264910047, 951, 2, 3]\n",
      "[LightGBM] [Warning] bagging_freq is set=1, subsample_freq=0 will be ignored. Current value: bagging_freq=1\n",
      "D:\\Users\\angel\\Anaconda3\\lib\\site-packages\\lightgbm\\basic.py:739: UserWarning: Converting data to scipy sparse matrix.\n",
      "  _log_warning('Converting data to scipy sparse matrix.')\n",
      "0.7096895424836601\n",
      "Iteration No: 47 ended. Search finished for the next optimal point.\n",
      "Time taken: 0.4982\n",
      "Function value obtained: -0.2095\n",
      "Current minimum: -0.2490\n",
      "Iteration No: 48 started. Searching for the next optimal point.\n",
      "[0.0075423453632092645, 2, 9, 0.8801673677651349, 0.2772011949072231, 981, 4, 4]\n",
      "[LightGBM] [Warning] bagging_freq is set=1, subsample_freq=0 will be ignored. Current value: bagging_freq=1\n",
      "D:\\Users\\angel\\Anaconda3\\lib\\site-packages\\lightgbm\\basic.py:739: UserWarning: Converting data to scipy sparse matrix.\n",
      "  _log_warning('Converting data to scipy sparse matrix.')\n",
      "0.7172385620915033\n",
      "Iteration No: 48 ended. Search finished for the next optimal point.\n",
      "Time taken: 0.6063\n",
      "Function value obtained: -0.2017\n",
      "Current minimum: -0.2490\n",
      "Iteration No: 49 started. Searching for the next optimal point.\n",
      "[0.010455451159468146, 2, 5, 0.6228995360948804, 0.1168276829104903, 293, 3, 2]\n",
      "[LightGBM] [Warning] bagging_freq is set=1, subsample_freq=0 will be ignored. Current value: bagging_freq=1\n",
      "0.752843137254902\n",
      "D:\\Users\\angel\\Anaconda3\\lib\\site-packages\\lightgbm\\basic.py:739: UserWarning: Converting data to scipy sparse matrix.\n",
      "  _log_warning('Converting data to scipy sparse matrix.')\n",
      "Iteration No: 49 ended. Search finished for the next optimal point.\n",
      "Time taken: 0.3848\n",
      "Function value obtained: -0.2431\n",
      "Current minimum: -0.2490\n",
      "Iteration No: 50 started. Searching for the next optimal point.\n",
      "[0.0010204933610546579, 2, 9, 0.9180597446510165, 0.052876650052026686, 727, 3, 1]\n",
      "[LightGBM] [Warning] bagging_freq is set=1, subsample_freq=0 will be ignored. Current value: bagging_freq=1\n",
      "0.6974509803921569\n",
      "D:\\Users\\angel\\Anaconda3\\lib\\site-packages\\lightgbm\\basic.py:739: UserWarning: Converting data to scipy sparse matrix.\n",
      "  _log_warning('Converting data to scipy sparse matrix.')\n",
      "Iteration No: 50 ended. Search finished for the next optimal point.\n",
      "Time taken: 0.3829\n",
      "Function value obtained: -0.1555\n",
      "Current minimum: -0.2490\n"
     ]
    }
   ],
   "source": [
    "from skopt import forest_minimize\n",
    "\n",
    "space = [(1e-3, 1e-1, 'log-uniform'), #lr\n",
    "         (1, 15), # max_depth\n",
    "         (1, 20), # min_child_samples\n",
    "         (0.05, 1.), # subsample\n",
    "         (0.05, 1.), # colsample_bytree\n",
    "         (100, 1000), # n_estimators\n",
    "         (1,5), # min_df\n",
    "         (1,5) # ngram_range\n",
    "]\n",
    "\n",
    "res = forest_minimize(tune_lgbm, space, random_state=160745, n_random_starts=20, n_calls=50, verbose=1)"
   ]
  },
  {
   "cell_type": "code",
   "execution_count": 30,
   "metadata": {},
   "outputs": [
    {
     "output_type": "execute_result",
     "data": {
      "text/plain": [
       "[0.011144682437501488, 2, 5, 0.890697915175696, 0.06794603708438668, 246, 3, 4]"
      ]
     },
     "metadata": {},
     "execution_count": 30
    }
   ],
   "source": [
    "res.x"
   ]
  },
  {
   "cell_type": "code",
   "execution_count": 31,
   "metadata": {},
   "outputs": [
    {
     "output_type": "stream",
     "name": "stdout",
     "text": [
      "[0.011144682437501488, 2, 5, 0.890697915175696, 0.06794603708438668, 246, 3, 4]\n",
      "[LightGBM] [Warning] bagging_freq is set=1, subsample_freq=0 will be ignored. Current value: bagging_freq=1\n",
      "0.7532679738562091\n",
      "D:\\Users\\angel\\Anaconda3\\lib\\site-packages\\lightgbm\\basic.py:739: UserWarning: Converting data to scipy sparse matrix.\n",
      "  _log_warning('Converting data to scipy sparse matrix.')\n"
     ]
    },
    {
     "output_type": "execute_result",
     "data": {
      "text/plain": [
       "-0.24897408670745122"
      ]
     },
     "metadata": {},
     "execution_count": 31
    }
   ],
   "source": [
    "tune_lgbm(res.x)"
   ]
  },
  {
   "source": [
    "ap 0.24897408670745122  auc 0.7532679738562091 - LGBM\n",
    "\n",
    "ap 0.2701322613168307 auc 0.7720751633986929 - min_samples_leaf=1 n_estimator=1000 min_df=2 ngram_range(1,4) RF"
   ],
   "cell_type": "markdown",
   "metadata": {}
  },
  {
   "source": [
    "## Logistic Regression"
   ],
   "cell_type": "markdown",
   "metadata": {}
  },
  {
   "cell_type": "code",
   "execution_count": 32,
   "metadata": {},
   "outputs": [],
   "source": [
    "from sklearn.linear_model import LogisticRegression\n",
    "from sklearn.preprocessing import MaxAbsScaler, StandardScaler\n",
    "from scipy.sparse import csr_matrix"
   ]
  },
  {
   "cell_type": "code",
   "execution_count": 33,
   "metadata": {},
   "outputs": [],
   "source": [
    "Xtrain_wtitle2 = csr_matrix(Xtrain_wtitle.copy())\n",
    "Xval_wtitle2 = csr_matrix(Xval_wtitle.copy())"
   ]
  },
  {
   "cell_type": "code",
   "execution_count": 34,
   "metadata": {},
   "outputs": [],
   "source": [
    "#scaler = StandardScaler()\n",
    "scaler = MaxAbsScaler()\n",
    "\n",
    "# Xtrain_wtitle2[:, :2] = scaler.fit_transform(Xtrain_wtitle2[:, :2].todense())\n",
    "# Xval_wtitle2[:, :2] = scaler.transform(Xval_wtitle2[:, :2].todense())\n",
    "\n",
    "Xtrain_wtitle2 = scaler.fit_transform(Xtrain_wtitle2)\n",
    "Xval_wtitle2 = scaler.transform(Xval_wtitle2)"
   ]
  },
  {
   "cell_type": "code",
   "execution_count": 35,
   "metadata": {},
   "outputs": [
    {
     "output_type": "execute_result",
     "data": {
      "text/plain": [
       "((645, 1550), (662, 1550))"
      ]
     },
     "metadata": {},
     "execution_count": 35
    }
   ],
   "source": [
    "Xtrain_wtitle2.shape, Xval_wtitle2.shape"
   ]
  },
  {
   "cell_type": "code",
   "execution_count": 36,
   "metadata": {},
   "outputs": [
    {
     "output_type": "execute_result",
     "data": {
      "text/plain": [
       "LogisticRegression(C=10, n_jobs=6, random_state=0)"
      ]
     },
     "metadata": {},
     "execution_count": 36
    }
   ],
   "source": [
    "mdl = LogisticRegression(C=10, n_jobs=6, random_state=0)\n",
    "mdl.fit(Xtrain_wtitle2, y_train)"
   ]
  },
  {
   "cell_type": "code",
   "execution_count": 37,
   "metadata": {},
   "outputs": [],
   "source": [
    "p = mdl.predict_proba(Xval_wtitle2)[:, 1]"
   ]
  },
  {
   "cell_type": "code",
   "execution_count": 38,
   "metadata": {},
   "outputs": [
    {
     "output_type": "execute_result",
     "data": {
      "text/plain": [
       "(0.26927648885823324, 0.7180718954248365)"
      ]
     },
     "metadata": {},
     "execution_count": 38
    }
   ],
   "source": [
    "average_precision_score(y_val, p), roc_auc_score(y_val, p)"
   ]
  },
  {
   "source": [
    "(0.26533580463953477, 0.7552941176470589) - sem tunning - standarscaler\n",
    "\n",
    "(0.25495170554301794, 0.7511111111111111) - sem tunning - maxabsscaler\n",
    "\n",
    "(0.26927648885823324, 0.7180718954248365) - C=10 - maxabsscaler\n",
    "\n",
    "(0.24767994545053074, 0.7578431372549019) - C=0.5 - maxabsscaler"
   ],
   "cell_type": "markdown",
   "metadata": {}
  },
  {
   "cell_type": "code",
   "execution_count": null,
   "metadata": {},
   "outputs": [],
   "source": []
  }
 ]
}