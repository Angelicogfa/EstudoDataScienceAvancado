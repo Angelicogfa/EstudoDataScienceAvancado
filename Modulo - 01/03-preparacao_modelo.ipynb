{
 "metadata": {
  "language_info": {
   "codemirror_mode": {
    "name": "ipython",
    "version": 3
   },
   "file_extension": ".py",
   "mimetype": "text/x-python",
   "name": "python",
   "nbconvert_exporter": "python",
   "pygments_lexer": "ipython3",
   "version": "3.8.5-final"
  },
  "orig_nbformat": 2,
  "kernelspec": {
   "name": "python3",
   "display_name": "Python 3.8.5 64-bit (conda)",
   "metadata": {
    "interpreter": {
     "hash": "2c1855c28b8b597f057332dae11de67c6b939458ee52262e1ccdf6e51de96f0d"
    }
   }
  }
 },
 "nbformat": 4,
 "nbformat_minor": 2,
 "cells": [
  {
   "cell_type": "code",
   "execution_count": 1,
   "metadata": {},
   "outputs": [],
   "source": [
    "import pandas as pd\n",
    "import numpy as np\n",
    "import re\n",
    "import time"
   ]
  },
  {
   "cell_type": "code",
   "execution_count": 2,
   "metadata": {},
   "outputs": [
    {
     "output_type": "execute_result",
     "data": {
      "text/plain": [
       "                                          link  \\\n",
       "0  https://www.youtube.com/watch?v=-0WQnwNFqJM   \n",
       "1  https://www.youtube.com/watch?v=-5hEYRt8JE0   \n",
       "2  https://www.youtube.com/watch?v=-6RqxhNO2yY   \n",
       "3  https://www.youtube.com/watch?v=-AkBfBWr_Gw   \n",
       "4  https://www.youtube.com/watch?v=-DDrE6T0ct4   \n",
       "\n",
       "                                               title  \\\n",
       "0  AI learns to Speedrun QWOP using Machine Learning   \n",
       "1  How to Become A Machine Learning Engineer | Ho...   \n",
       "2  Python For Data Science Full Course - 9 Hours ...   \n",
       "3                   Can You Become a Data Scientist?   \n",
       "4  Binary Image Classification with CNN (Deep Lea...   \n",
       "\n",
       "                   canal_nome  \\\n",
       "0                 Wesley Liao   \n",
       "1  #MachineLearningAlgorithms   \n",
       "2                    #edureka   \n",
       "3                       #data   \n",
       "4                   #download   \n",
       "\n",
       "                                          canal_link  view_counts  \\\n",
       "0  https://www.youtube.com/channel/UCair-JZ6XmtJk...     226613.0   \n",
       "1  https://www.youtube.com/hashtag/machinelearnin...      53263.0   \n",
       "2            https://www.youtube.com/hashtag/edureka     142715.0   \n",
       "3               https://www.youtube.com/hashtag/data     776910.0   \n",
       "4           https://www.youtube.com/hashtag/download       2290.0   \n",
       "\n",
       "           video_date                       like                     dislike  \\\n",
       "0  25 de fev. de 2021   2.729 marcações \"Gostei\"   33 marcações \"Não gostei\"   \n",
       "1   3 de set. de 2018   1.407 marcações \"Gostei\"   27 marcações \"Não gostei\"   \n",
       "2  15 de mar. de 2020   3.990 marcações \"Gostei\"   57 marcações \"Não gostei\"   \n",
       "3  14 de ago. de 2018  12.316 marcações \"Gostei\"  431 marcações \"Não gostei\"   \n",
       "4  23 de mar. de 2020      66 marcações \"Gostei\"  Sem marcações \"Não gostei\"   \n",
       "\n",
       "   y  \n",
       "0  0  \n",
       "1  0  \n",
       "2  0  \n",
       "3  0  \n",
       "4  1  "
      ],
      "text/html": "<div>\n<style scoped>\n    .dataframe tbody tr th:only-of-type {\n        vertical-align: middle;\n    }\n\n    .dataframe tbody tr th {\n        vertical-align: top;\n    }\n\n    .dataframe thead th {\n        text-align: right;\n    }\n</style>\n<table border=\"1\" class=\"dataframe\">\n  <thead>\n    <tr style=\"text-align: right;\">\n      <th></th>\n      <th>link</th>\n      <th>title</th>\n      <th>canal_nome</th>\n      <th>canal_link</th>\n      <th>view_counts</th>\n      <th>video_date</th>\n      <th>like</th>\n      <th>dislike</th>\n      <th>y</th>\n    </tr>\n  </thead>\n  <tbody>\n    <tr>\n      <th>0</th>\n      <td>https://www.youtube.com/watch?v=-0WQnwNFqJM</td>\n      <td>AI learns to Speedrun QWOP using Machine Learning</td>\n      <td>Wesley Liao</td>\n      <td>https://www.youtube.com/channel/UCair-JZ6XmtJk...</td>\n      <td>226613.0</td>\n      <td>25 de fev. de 2021</td>\n      <td>2.729 marcações \"Gostei\"</td>\n      <td>33 marcações \"Não gostei\"</td>\n      <td>0</td>\n    </tr>\n    <tr>\n      <th>1</th>\n      <td>https://www.youtube.com/watch?v=-5hEYRt8JE0</td>\n      <td>How to Become A Machine Learning Engineer | Ho...</td>\n      <td>#MachineLearningAlgorithms</td>\n      <td>https://www.youtube.com/hashtag/machinelearnin...</td>\n      <td>53263.0</td>\n      <td>3 de set. de 2018</td>\n      <td>1.407 marcações \"Gostei\"</td>\n      <td>27 marcações \"Não gostei\"</td>\n      <td>0</td>\n    </tr>\n    <tr>\n      <th>2</th>\n      <td>https://www.youtube.com/watch?v=-6RqxhNO2yY</td>\n      <td>Python For Data Science Full Course - 9 Hours ...</td>\n      <td>#edureka</td>\n      <td>https://www.youtube.com/hashtag/edureka</td>\n      <td>142715.0</td>\n      <td>15 de mar. de 2020</td>\n      <td>3.990 marcações \"Gostei\"</td>\n      <td>57 marcações \"Não gostei\"</td>\n      <td>0</td>\n    </tr>\n    <tr>\n      <th>3</th>\n      <td>https://www.youtube.com/watch?v=-AkBfBWr_Gw</td>\n      <td>Can You Become a Data Scientist?</td>\n      <td>#data</td>\n      <td>https://www.youtube.com/hashtag/data</td>\n      <td>776910.0</td>\n      <td>14 de ago. de 2018</td>\n      <td>12.316 marcações \"Gostei\"</td>\n      <td>431 marcações \"Não gostei\"</td>\n      <td>0</td>\n    </tr>\n    <tr>\n      <th>4</th>\n      <td>https://www.youtube.com/watch?v=-DDrE6T0ct4</td>\n      <td>Binary Image Classification with CNN (Deep Lea...</td>\n      <td>#download</td>\n      <td>https://www.youtube.com/hashtag/download</td>\n      <td>2290.0</td>\n      <td>23 de mar. de 2020</td>\n      <td>66 marcações \"Gostei\"</td>\n      <td>Sem marcações \"Não gostei\"</td>\n      <td>1</td>\n    </tr>\n  </tbody>\n</table>\n</div>"
     },
     "metadata": {},
     "execution_count": 2
    }
   ],
   "source": [
    "df = pd.read_excel('raw_data_with_label.xlsx', sheet_name='links', index_col=0)\n",
    "df.head()"
   ]
  },
  {
   "cell_type": "code",
   "execution_count": 3,
   "metadata": {},
   "outputs": [
    {
     "output_type": "stream",
     "name": "stdout",
     "text": [
      "<class 'pandas.core.frame.DataFrame'>\nInt64Index: 1768 entries, 0 to 1767\nData columns (total 9 columns):\n #   Column       Non-Null Count  Dtype  \n---  ------       --------------  -----  \n 0   link         1768 non-null   object \n 1   title        1741 non-null   object \n 2   canal_nome   1748 non-null   object \n 3   canal_link   1748 non-null   object \n 4   view_counts  1747 non-null   float64\n 5   video_date   1461 non-null   object \n 6   like         1711 non-null   object \n 7   dislike      1711 non-null   object \n 8   y            1768 non-null   int64  \ndtypes: float64(1), int64(1), object(7)\nmemory usage: 138.1+ KB\n"
     ]
    }
   ],
   "source": [
    "df.info()"
   ]
  },
  {
   "cell_type": "code",
   "execution_count": 4,
   "metadata": {},
   "outputs": [
    {
     "output_type": "stream",
     "name": "stdout",
     "text": [
      "<class 'pandas.core.frame.DataFrame'>\nInt64Index: 1452 entries, 0 to 1766\nData columns (total 9 columns):\n #   Column       Non-Null Count  Dtype  \n---  ------       --------------  -----  \n 0   link         1452 non-null   object \n 1   title        1452 non-null   object \n 2   canal_nome   1452 non-null   object \n 3   canal_link   1452 non-null   object \n 4   view_counts  1452 non-null   float64\n 5   video_date   1452 non-null   object \n 6   like         1452 non-null   object \n 7   dislike      1452 non-null   object \n 8   y            1452 non-null   int64  \ndtypes: float64(1), int64(1), object(7)\nmemory usage: 113.4+ KB\n"
     ]
    }
   ],
   "source": [
    "df.dropna().info()"
   ]
  },
  {
   "cell_type": "code",
   "execution_count": 5,
   "metadata": {},
   "outputs": [],
   "source": [
    "df.dropna(inplace=True)"
   ]
  },
  {
   "cell_type": "code",
   "execution_count": 6,
   "metadata": {},
   "outputs": [
    {
     "output_type": "execute_result",
     "data": {
      "text/plain": [
       "0    1251\n",
       "1     201\n",
       "Name: y, dtype: int64"
      ]
     },
     "metadata": {},
     "execution_count": 6
    }
   ],
   "source": [
    "df.y.value_counts()"
   ]
  },
  {
   "cell_type": "code",
   "execution_count": 7,
   "metadata": {},
   "outputs": [
    {
     "output_type": "execute_result",
     "data": {
      "text/plain": [
       "(1452, 9)"
      ]
     },
     "metadata": {},
     "execution_count": 7
    }
   ],
   "source": [
    "df.shape"
   ]
  },
  {
   "cell_type": "code",
   "execution_count": 8,
   "metadata": {},
   "outputs": [],
   "source": [
    "from sklearn.linear_model import LogisticRegression\n",
    "from sklearn.tree import DecisionTreeClassifier\n",
    "from sklearn.model_selection import train_test_split"
   ]
  },
  {
   "cell_type": "code",
   "execution_count": 16,
   "metadata": {},
   "outputs": [],
   "source": [
    "df_limpo = pd.DataFrame(index=df.index)"
   ]
  },
  {
   "source": [
    "## 1. Limpeza da data"
   ],
   "cell_type": "markdown",
   "metadata": {}
  },
  {
   "cell_type": "code",
   "execution_count": 17,
   "metadata": {},
   "outputs": [
    {
     "output_type": "execute_result",
     "data": {
      "text/plain": [
       "       0    1     2\n",
       "0     25  fev  2021\n",
       "1      3  set  2018\n",
       "2     15  mar  2020\n",
       "3     14  ago  2018\n",
       "4     23  mar  2020\n",
       "...   ..  ...   ...\n",
       "1759  24  jan  2019\n",
       "1760  30  set  2020\n",
       "1762   9  dez  2019\n",
       "1765  12  mar  2021\n",
       "1766  11  mar  2021\n",
       "\n",
       "[1452 rows x 3 columns]"
      ],
      "text/html": "<div>\n<style scoped>\n    .dataframe tbody tr th:only-of-type {\n        vertical-align: middle;\n    }\n\n    .dataframe tbody tr th {\n        vertical-align: top;\n    }\n\n    .dataframe thead th {\n        text-align: right;\n    }\n</style>\n<table border=\"1\" class=\"dataframe\">\n  <thead>\n    <tr style=\"text-align: right;\">\n      <th></th>\n      <th>0</th>\n      <th>1</th>\n      <th>2</th>\n    </tr>\n  </thead>\n  <tbody>\n    <tr>\n      <th>0</th>\n      <td>25</td>\n      <td>fev</td>\n      <td>2021</td>\n    </tr>\n    <tr>\n      <th>1</th>\n      <td>3</td>\n      <td>set</td>\n      <td>2018</td>\n    </tr>\n    <tr>\n      <th>2</th>\n      <td>15</td>\n      <td>mar</td>\n      <td>2020</td>\n    </tr>\n    <tr>\n      <th>3</th>\n      <td>14</td>\n      <td>ago</td>\n      <td>2018</td>\n    </tr>\n    <tr>\n      <th>4</th>\n      <td>23</td>\n      <td>mar</td>\n      <td>2020</td>\n    </tr>\n    <tr>\n      <th>...</th>\n      <td>...</td>\n      <td>...</td>\n      <td>...</td>\n    </tr>\n    <tr>\n      <th>1759</th>\n      <td>24</td>\n      <td>jan</td>\n      <td>2019</td>\n    </tr>\n    <tr>\n      <th>1760</th>\n      <td>30</td>\n      <td>set</td>\n      <td>2020</td>\n    </tr>\n    <tr>\n      <th>1762</th>\n      <td>9</td>\n      <td>dez</td>\n      <td>2019</td>\n    </tr>\n    <tr>\n      <th>1765</th>\n      <td>12</td>\n      <td>mar</td>\n      <td>2021</td>\n    </tr>\n    <tr>\n      <th>1766</th>\n      <td>11</td>\n      <td>mar</td>\n      <td>2021</td>\n    </tr>\n  </tbody>\n</table>\n<p>1452 rows × 3 columns</p>\n</div>"
     },
     "metadata": {},
     "execution_count": 17
    }
   ],
   "source": [
    "clean_date = df['video_date'].str.extract(r'(\\d+) de (\\w+)\\. de (\\d+)')\n",
    "clean_date"
   ]
  },
  {
   "cell_type": "code",
   "execution_count": 18,
   "metadata": {},
   "outputs": [
    {
     "output_type": "execute_result",
     "data": {
      "text/plain": [
       "    0    1     2\n",
       "0  02  fev  2021\n",
       "1  03  set  2018\n",
       "2  01  mar  2020\n",
       "3  01  ago  2018\n",
       "4  02  mar  2020"
      ],
      "text/html": "<div>\n<style scoped>\n    .dataframe tbody tr th:only-of-type {\n        vertical-align: middle;\n    }\n\n    .dataframe tbody tr th {\n        vertical-align: top;\n    }\n\n    .dataframe thead th {\n        text-align: right;\n    }\n</style>\n<table border=\"1\" class=\"dataframe\">\n  <thead>\n    <tr style=\"text-align: right;\">\n      <th></th>\n      <th>0</th>\n      <th>1</th>\n      <th>2</th>\n    </tr>\n  </thead>\n  <tbody>\n    <tr>\n      <th>0</th>\n      <td>02</td>\n      <td>fev</td>\n      <td>2021</td>\n    </tr>\n    <tr>\n      <th>1</th>\n      <td>03</td>\n      <td>set</td>\n      <td>2018</td>\n    </tr>\n    <tr>\n      <th>2</th>\n      <td>01</td>\n      <td>mar</td>\n      <td>2020</td>\n    </tr>\n    <tr>\n      <th>3</th>\n      <td>01</td>\n      <td>ago</td>\n      <td>2018</td>\n    </tr>\n    <tr>\n      <th>4</th>\n      <td>02</td>\n      <td>mar</td>\n      <td>2020</td>\n    </tr>\n  </tbody>\n</table>\n</div>"
     },
     "metadata": {},
     "execution_count": 18
    }
   ],
   "source": [
    "clean_date[0] = clean_date[0].map(lambda x: \"0\"+ x[0] if len(x[0]) == 1 else x)\n",
    "clean_date.head()"
   ]
  },
  {
   "cell_type": "code",
   "execution_count": 19,
   "metadata": {},
   "outputs": [],
   "source": [
    "mapa_meses = {\n",
    "    'jan': 'Jan',\n",
    "    'fev': 'Feb',\n",
    "    'mar': 'Mar',\n",
    "    'abr': 'Apr',\n",
    "    'mai': 'May',\n",
    "    'jun': 'Jun',\n",
    "    'jul': 'Jul',\n",
    "    'ago': 'Aug',\n",
    "    'set': 'Sep',\n",
    "    'out': 'Oct',\n",
    "    'nov': 'Nov',\n",
    "    'dez': 'Dec'\n",
    "}\n",
    "\n",
    "clean_date[1] = clean_date[1].map(mapa_meses)\n",
    "clean_date = clean_date.apply(lambda x: ' '.join(x), axis=1)\n",
    "clean_date.head()\n",
    "df_limpo['date'] = pd.to_datetime(clean_date, format='%d %b %Y')"
   ]
  },
  {
   "cell_type": "code",
   "execution_count": 23,
   "metadata": {},
   "outputs": [
    {
     "output_type": "execute_result",
     "data": {
      "text/plain": [
       "        date\n",
       "0 2021-02-02\n",
       "1 2018-09-03\n",
       "2 2020-03-01\n",
       "3 2018-08-01\n",
       "4 2020-03-02"
      ],
      "text/html": "<div>\n<style scoped>\n    .dataframe tbody tr th:only-of-type {\n        vertical-align: middle;\n    }\n\n    .dataframe tbody tr th {\n        vertical-align: top;\n    }\n\n    .dataframe thead th {\n        text-align: right;\n    }\n</style>\n<table border=\"1\" class=\"dataframe\">\n  <thead>\n    <tr style=\"text-align: right;\">\n      <th></th>\n      <th>date</th>\n    </tr>\n  </thead>\n  <tbody>\n    <tr>\n      <th>0</th>\n      <td>2021-02-02</td>\n    </tr>\n    <tr>\n      <th>1</th>\n      <td>2018-09-03</td>\n    </tr>\n    <tr>\n      <th>2</th>\n      <td>2020-03-01</td>\n    </tr>\n    <tr>\n      <th>3</th>\n      <td>2018-08-01</td>\n    </tr>\n    <tr>\n      <th>4</th>\n      <td>2020-03-02</td>\n    </tr>\n  </tbody>\n</table>\n</div>"
     },
     "metadata": {},
     "execution_count": 23
    }
   ],
   "source": [
    "df_limpo.head(5)"
   ]
  },
  {
   "cell_type": "code",
   "execution_count": null,
   "metadata": {},
   "outputs": [],
   "source": []
  }
 ]
}