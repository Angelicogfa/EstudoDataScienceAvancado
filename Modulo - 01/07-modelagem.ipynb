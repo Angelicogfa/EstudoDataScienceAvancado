{
 "metadata": {
  "language_info": {
   "codemirror_mode": {
    "name": "ipython",
    "version": 3
   },
   "file_extension": ".py",
   "mimetype": "text/x-python",
   "name": "python",
   "nbconvert_exporter": "python",
   "pygments_lexer": "ipython3",
   "version": "3.8.5"
  },
  "orig_nbformat": 2,
  "kernelspec": {
   "name": "python3",
   "display_name": "Python 3.8.5 64-bit ('base': conda)",
   "metadata": {
    "interpreter": {
     "hash": "2c1855c28b8b597f057332dae11de67c6b939458ee52262e1ccdf6e51de96f0d"
    }
   }
  }
 },
 "nbformat": 4,
 "nbformat_minor": 2,
 "cells": [
  {
   "source": [
    "## 1. Importação"
   ],
   "cell_type": "markdown",
   "metadata": {}
  },
  {
   "cell_type": "code",
   "execution_count": 1,
   "metadata": {},
   "outputs": [],
   "source": [
    "import pandas as pd\n",
    "import numpy as np\n",
    "\n",
    "from sklearn.metrics import roc_auc_score, average_precision_score\n",
    "from sklearn.preprocessing import MaxAbsScaler, StandardScaler\n",
    "from scipy.sparse import csr_matrix\n",
    "\n",
    "from lightgbm import LGBMClassifier"
   ]
  },
  {
   "cell_type": "code",
   "execution_count": 2,
   "metadata": {},
   "outputs": [],
   "source": [
    "df = pd.read_excel('raw_data_with_full_label.xlsx', sheet_name='links', index_col=0).dropna()"
   ]
  },
  {
   "cell_type": "code",
   "execution_count": 3,
   "metadata": {},
   "outputs": [
    {
     "output_type": "stream",
     "name": "stdout",
     "text": [
      "<class 'pandas.core.frame.DataFrame'>\nInt64Index: 1452 entries, 0 to 1766\nData columns (total 9 columns):\n #   Column       Non-Null Count  Dtype  \n---  ------       --------------  -----  \n 0   link         1452 non-null   object \n 1   title        1452 non-null   object \n 2   canal_nome   1452 non-null   object \n 3   canal_link   1452 non-null   object \n 4   view_counts  1452 non-null   float64\n 5   video_date   1452 non-null   object \n 6   like         1452 non-null   object \n 7   dislike      1452 non-null   object \n 8   y            1452 non-null   float64\ndtypes: float64(2), object(7)\nmemory usage: 113.4+ KB\n"
     ]
    }
   ],
   "source": [
    "df.info()"
   ]
  },
  {
   "cell_type": "code",
   "execution_count": 4,
   "metadata": {},
   "outputs": [],
   "source": [
    "from sklearn.linear_model import LogisticRegression\n",
    "from sklearn.ensemble import RandomForestClassifier"
   ]
  },
  {
   "source": [
    "## 2. Limpeza e tratamento dos dados"
   ],
   "cell_type": "markdown",
   "metadata": {}
  },
  {
   "cell_type": "code",
   "execution_count": 5,
   "metadata": {},
   "outputs": [],
   "source": [
    "df_limpo = pd.DataFrame(index=df.index)\n",
    "df_limpo['title'] = df['title']\n",
    "df_limpo['views'] = df['view_counts']"
   ]
  },
  {
   "cell_type": "code",
   "execution_count": 6,
   "metadata": {},
   "outputs": [],
   "source": [
    "clean_date = df['video_date'].str.extract(r'(\\d+) de (\\w+)\\. de (\\d+)')\n",
    "clean_date[0] = clean_date[0].map(lambda x: \"0\"+ x[0] if len(x[0]) == 1 else x)\n",
    "\n",
    "mapa_meses = {\n",
    "    'jan': 'Jan',\n",
    "    'fev': 'Feb',\n",
    "    'mar': 'Mar',\n",
    "    'abr': 'Apr',\n",
    "    'mai': 'May',\n",
    "    'jun': 'Jun',\n",
    "    'jul': 'Jul',\n",
    "    'ago': 'Aug',\n",
    "    'set': 'Sep',\n",
    "    'out': 'Oct',\n",
    "    'nov': 'Nov',\n",
    "    'dez': 'Dec'\n",
    "}\n",
    "\n",
    "clean_date[1] = clean_date[1].map(mapa_meses)\n",
    "clean_date = clean_date.apply(lambda x: ' '.join(x), axis=1)\n",
    "clean_date.head()\n",
    "df_limpo['date'] = pd.to_datetime(clean_date, format='%d %b %Y')"
   ]
  },
  {
   "cell_type": "code",
   "execution_count": 7,
   "metadata": {},
   "outputs": [],
   "source": [
    "indexs = df_limpo['date'].loc[df_limpo['date'].dt.year < 2018].index.values\n",
    "\n",
    "df_limpo.drop(index=indexs, axis='rows', inplace=True)\n",
    "df.drop(index=indexs, axis='rows', inplace=True)"
   ]
  },
  {
   "cell_type": "code",
   "execution_count": 8,
   "metadata": {},
   "outputs": [],
   "source": [
    "features = pd.DataFrame(index=df_limpo.index)\n",
    "y = df['y'].copy()\n",
    "\n",
    "features['tempo_desde_pub'] = (pd.to_datetime('2021-03-18') - df_limpo['date']) / np.timedelta64(1, 'D')\n",
    "features['views'] = df_limpo['views']\n",
    "features['views_por_dia'] = features['views'] / features['tempo_desde_pub']\n",
    "features.drop(columns=['tempo_desde_pub'], inplace=True)"
   ]
  },
  {
   "cell_type": "code",
   "execution_count": 9,
   "metadata": {},
   "outputs": [
    {
     "output_type": "execute_result",
     "data": {
      "text/plain": [
       "'2020-03-02'"
      ]
     },
     "metadata": {},
     "execution_count": 9
    }
   ],
   "source": [
    "qtd = len(df_limpo['date'])\n",
    "meio = qtd // 2 if qtd % 2 == 0 else (qtd // 2) + 1\n",
    "date = str(pd.Timestamp(df_limpo.sort_values(by='date')['date'].values[meio]).date())\n",
    "date"
   ]
  },
  {
   "cell_type": "code",
   "execution_count": 10,
   "metadata": {},
   "outputs": [
    {
     "output_type": "execute_result",
     "data": {
      "text/plain": [
       "((645, 2), (662, 2), (645,), (662,))"
      ]
     },
     "metadata": {},
     "execution_count": 10
    }
   ],
   "source": [
    "mask_train = (df_limpo['date'] < date)\n",
    "mask_val = (df_limpo['date'] >= date)\n",
    "\n",
    "X_train, X_val = features[mask_train], features[mask_val]\n",
    "y_train, y_val = y[mask_train], y[mask_val]\n",
    "X_train.shape, X_val.shape, y_train.shape, y_val.shape"
   ]
  },
  {
   "source": [
    "## 3. Criação de feature"
   ],
   "cell_type": "markdown",
   "metadata": {}
  },
  {
   "cell_type": "code",
   "execution_count": 11,
   "metadata": {},
   "outputs": [],
   "source": [
    "from sklearn.feature_extraction.text import TfidfVectorizer\n",
    "\n",
    "title_train = df_limpo[mask_train]['title']\n",
    "title_val = df_limpo[mask_val]['title']\n",
    "\n",
    "title_vec = TfidfVectorizer(min_df=2, ngram_range=(1,4))\n",
    "title_bow_train = title_vec.fit_transform(title_train)\n",
    "title_bow_val = title_vec.transform(title_val)"
   ]
  },
  {
   "cell_type": "code",
   "execution_count": 12,
   "metadata": {},
   "outputs": [],
   "source": [
    "from scipy.sparse import hstack\n",
    "\n",
    "Xtrain_wtitle = hstack([X_train, title_bow_train])\n",
    "Xval_wtitle = hstack([X_val, title_bow_val])"
   ]
  },
  {
   "cell_type": "code",
   "execution_count": 13,
   "metadata": {},
   "outputs": [
    {
     "output_type": "execute_result",
     "data": {
      "text/plain": [
       "((645, 1550), (662, 1550))"
      ]
     },
     "metadata": {},
     "execution_count": 13
    }
   ],
   "source": [
    "Xtrain_wtitle.shape, Xval_wtitle.shape"
   ]
  },
  {
   "source": [
    "## 4. Random Forest"
   ],
   "cell_type": "markdown",
   "metadata": {}
  },
  {
   "cell_type": "code",
   "execution_count": 14,
   "metadata": {},
   "outputs": [
    {
     "output_type": "execute_result",
     "data": {
      "text/plain": [
       "RandomForestClassifier(class_weight='balanced', n_estimators=1000, n_jobs=6,\n",
       "                       random_state=0)"
      ]
     },
     "metadata": {},
     "execution_count": 14
    }
   ],
   "source": [
    "mdl_rf = RandomForestClassifier(n_estimators=1000, random_state=0, min_samples_leaf=1, class_weight='balanced', n_jobs=6)\n",
    "mdl_rf.fit(Xtrain_wtitle, y_train)"
   ]
  },
  {
   "cell_type": "code",
   "execution_count": 15,
   "metadata": {},
   "outputs": [],
   "source": [
    "p_rf = mdl_rf.predict_proba(Xval_wtitle)[:,1]"
   ]
  },
  {
   "cell_type": "code",
   "execution_count": 16,
   "metadata": {},
   "outputs": [
    {
     "output_type": "execute_result",
     "data": {
      "text/plain": [
       "(0.2701322613168307, 0.7720751633986929)"
      ]
     },
     "metadata": {},
     "execution_count": 16
    }
   ],
   "source": [
    "average_precision_score(y_val, p_rf), roc_auc_score(y_val, p_rf)"
   ]
  },
  {
   "source": [
    "## 5. LGBM"
   ],
   "cell_type": "markdown",
   "metadata": {}
  },
  {
   "cell_type": "code",
   "execution_count": 17,
   "metadata": {},
   "outputs": [
    {
     "output_type": "stream",
     "name": "stdout",
     "text": [
      "[LightGBM] [Warning] Unknown parameter: class_weigth\n",
      "[LightGBM] [Warning] bagging_freq is set=1, subsample_freq=0 will be ignored. Current value: bagging_freq=1\n",
      "D:\\Users\\angel\\Anaconda3\\lib\\site-packages\\lightgbm\\basic.py:739: UserWarning: Converting data to scipy sparse matrix.\n",
      "  _log_warning('Converting data to scipy sparse matrix.')\n"
     ]
    }
   ],
   "source": [
    "params = [0.011144682437501488, 2, 5, 0.890697915175696, 0.06794603708438668, 246, 3, 4]\n",
    "lr = params[0]\n",
    "max_depth = params[1]\n",
    "min_child_samples = params[2]\n",
    "subsample = params[3]\n",
    "colsample_bytree = params[4]\n",
    "n_estimators = params[5]\n",
    "\n",
    "min_df = params[6]\n",
    "ngram_range = (1, params[7])\n",
    "\n",
    "title_vec = TfidfVectorizer(min_df=min_df, ngram_range=ngram_range)\n",
    "title_bow_train = title_vec.fit_transform(title_train)\n",
    "title_bow_val = title_vec.transform(title_val)\n",
    "\n",
    "Xtrain_wtitle = hstack([X_train, title_bow_train])\n",
    "Xval_wtitle = hstack([X_val, title_bow_val])\n",
    "\n",
    "mdl_lgbm = LGBMClassifier(learning_rate=lr, num_leaves=2 ** max_depth, max_depth=max_depth, min_child_samples=min_child_samples, subsample=subsample, colsample_bytree=colsample_bytree, bagging_freq=1, n_estimators=n_estimators, random_state=0, class_weigth='balanced', n_jobs=6)\n",
    "\n",
    "mdl_lgbm.fit(Xtrain_wtitle, y_train)\n",
    "p_lgbm = mdl_lgbm.predict_proba(Xval_wtitle)[:, 1]"
   ]
  },
  {
   "cell_type": "code",
   "execution_count": 18,
   "metadata": {},
   "outputs": [
    {
     "output_type": "execute_result",
     "data": {
      "text/plain": [
       "(0.2659388454666947, 0.7566993464052287)"
      ]
     },
     "metadata": {},
     "execution_count": 18
    }
   ],
   "source": [
    "average_precision_score(y_val, p_lgbm), roc_auc_score(y_val, p_lgbm)"
   ]
  },
  {
   "source": [
    "## 6. Logistic Regression"
   ],
   "cell_type": "markdown",
   "metadata": {}
  },
  {
   "cell_type": "code",
   "execution_count": 19,
   "metadata": {},
   "outputs": [],
   "source": [
    "from sklearn.pipeline import make_pipeline"
   ]
  },
  {
   "cell_type": "code",
   "execution_count": 30,
   "metadata": {},
   "outputs": [],
   "source": [
    "title_vec = TfidfVectorizer(min_df=2, ngram_range=(1,4))\n",
    "title_bow_train = title_vec.fit_transform(title_train)\n",
    "title_bow_val = title_vec.transform(title_val)\n",
    "\n",
    "Xtrain_wtitle = hstack([X_train, title_bow_train])\n",
    "Xval_wtitle = hstack([X_val, title_bow_val])\n",
    "\n",
    "mld_pipe = make_pipeline(MaxAbsScaler(), LogisticRegression(C=10, n_jobs=6, random_state=0))\n",
    "mld_pipe.fit(Xtrain_wtitle2, y_train)\n",
    "p_lr = mld_pipe.predict_proba(Xval_wtitle2)[:, 1]"
   ]
  },
  {
   "cell_type": "code",
   "execution_count": 31,
   "metadata": {},
   "outputs": [
    {
     "output_type": "execute_result",
     "data": {
      "text/plain": [
       "(0.26927648885823324, 0.7180718954248365)"
      ]
     },
     "metadata": {},
     "execution_count": 31
    }
   ],
   "source": [
    "average_precision_score(y_val, p_lr), roc_auc_score(y_val, p_lr)"
   ]
  },
  {
   "source": [
    "## 7. Ensemble \n",
    "\n",
    "(0.2701322613168307, 0.7720751633986929) - RF\n",
    "\n",
    "(0.2659388454666947, 0.7566993464052287) - LGBM\n",
    "\n",
    "(0.2680535000340579, 0.7138888888888889) - LR"
   ],
   "cell_type": "markdown",
   "metadata": {}
  },
  {
   "cell_type": "code",
   "execution_count": 32,
   "metadata": {},
   "outputs": [
    {
     "output_type": "execute_result",
     "data": {
      "text/plain": [
       "(0.3010721705884503, 0.7786928104575164)"
      ]
     },
     "metadata": {},
     "execution_count": 32
    }
   ],
   "source": [
    "p = (p_rf + p_lgbm + p_lr) / 3\n",
    "average_precision_score(y_val, p), roc_auc_score(y_val, p)"
   ]
  },
  {
   "cell_type": "code",
   "execution_count": 33,
   "metadata": {},
   "outputs": [
    {
     "output_type": "execute_result",
     "data": {
      "text/plain": [
       "            LR        RF      LGBM\n",
       "LR    1.000000  0.709387  0.606654\n",
       "RF    0.709387  1.000000  0.793710\n",
       "LGBM  0.606654  0.793710  1.000000"
      ],
      "text/html": "<div>\n<style scoped>\n    .dataframe tbody tr th:only-of-type {\n        vertical-align: middle;\n    }\n\n    .dataframe tbody tr th {\n        vertical-align: top;\n    }\n\n    .dataframe thead th {\n        text-align: right;\n    }\n</style>\n<table border=\"1\" class=\"dataframe\">\n  <thead>\n    <tr style=\"text-align: right;\">\n      <th></th>\n      <th>LR</th>\n      <th>RF</th>\n      <th>LGBM</th>\n    </tr>\n  </thead>\n  <tbody>\n    <tr>\n      <th>LR</th>\n      <td>1.000000</td>\n      <td>0.709387</td>\n      <td>0.606654</td>\n    </tr>\n    <tr>\n      <th>RF</th>\n      <td>0.709387</td>\n      <td>1.000000</td>\n      <td>0.793710</td>\n    </tr>\n    <tr>\n      <th>LGBM</th>\n      <td>0.606654</td>\n      <td>0.793710</td>\n      <td>1.000000</td>\n    </tr>\n  </tbody>\n</table>\n</div>"
     },
     "metadata": {},
     "execution_count": 33
    }
   ],
   "source": [
    "pd.DataFrame({'LR': p_lr, 'RF': p_rf, 'LGBM': p_lgbm}).corr()"
   ]
  },
  {
   "cell_type": "code",
   "execution_count": 60,
   "metadata": {},
   "outputs": [
    {
     "output_type": "execute_result",
     "data": {
      "text/plain": [
       "(0.30707416539893634, 0.7704901960784313)"
      ]
     },
     "metadata": {},
     "execution_count": 60
    }
   ],
   "source": [
    "p = 0.3 * p_lr + 0.7 * p_lgbm\n",
    "average_precision_score(y_val, p), roc_auc_score(y_val, p)"
   ]
  },
  {
   "source": [
    "(0.29405180130052905, 0.7679084967320261) - 0.5 * p_lr + 0.5 * p_rf\n",
    "(0.29457324235808463, 0.7836928104575163) - 0.5 * p_rf + 0.5 * p_lgbm\n",
    "(0.29828285365305823, 0.7614705882352941) - 0.5 * p_lr + 0.5 * p_lgbm\n",
    "(0.2984451868245137, 0.7752614379084968) - 0.2 * p_lr + 0.8 * p_rf\n",
    "(0.30002086336716705, 0.7723202614379086) - 0.25 * p_lr + 0.75 * p_lgbm\n",
    "(0.30707416539893634, 0.7704901960784313) - 0.3 * p_lr + 0.7 * p_lgbm"
   ],
   "cell_type": "markdown",
   "metadata": {}
  },
  {
   "cell_type": "code",
   "execution_count": null,
   "metadata": {},
   "outputs": [],
   "source": []
  }
 ]
}