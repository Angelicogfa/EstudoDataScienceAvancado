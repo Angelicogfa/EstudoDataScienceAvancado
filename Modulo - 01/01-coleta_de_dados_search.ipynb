{
 "metadata": {
  "language_info": {
   "codemirror_mode": {
    "name": "ipython",
    "version": 3
   },
   "file_extension": ".py",
   "mimetype": "text/x-python",
   "name": "python",
   "nbconvert_exporter": "python",
   "pygments_lexer": "ipython3",
   "version": "3.8.5-final"
  },
  "orig_nbformat": 2,
  "kernelspec": {
   "name": "python3",
   "display_name": "Python 3",
   "language": "python"
  }
 },
 "nbformat": 4,
 "nbformat_minor": 2,
 "cells": [
  {
   "source": [
    "## Imports"
   ],
   "cell_type": "markdown",
   "metadata": {}
  },
  {
   "cell_type": "code",
   "execution_count": 1,
   "metadata": {},
   "outputs": [],
   "source": [
    "#!pip install selenium bs4"
   ]
  },
  {
   "cell_type": "code",
   "execution_count": 2,
   "metadata": {},
   "outputs": [],
   "source": [
    "import pandas as pd\n",
    "import json\n",
    "import time\n",
    "\n",
    "from selenium import webdriver\n",
    "from selenium.webdriver.common.keys import Keys\n",
    "from selenium.webdriver.chrome.options import Options "
   ]
  },
  {
   "source": [
    "## Coleta dos dados e processamento de dados\n",
    "\n",
    "A coleta de dados será realizada pelo selenium por motivo da pagina do google ser um SPA e renderizar o layout via JS."
   ],
   "cell_type": "markdown",
   "metadata": {}
  },
  {
   "cell_type": "code",
   "execution_count": 4,
   "metadata": {},
   "outputs": [
    {
     "output_type": "stream",
     "name": "stderr",
     "text": [
      "<ipython-input-4-58362a23738f>:7: DeprecationWarning: use options instead of chrome_options\n  with webdriver.Chrome(chrome_options=options) as drive:\n"
     ]
    }
   ],
   "source": [
    "url = 'https://www.youtube.com/results?search_query={query}'\n",
    "queries = ['machine+learning', 'data+science', 'kaggle']\n",
    "\n",
    "options = Options()\n",
    "options.add_argument('--headless')\n",
    "\n",
    "with webdriver.Chrome(chrome_options=options) as drive:\n",
    "    resources = []\n",
    "    for query in queries:\n",
    "        link = url.format(query=query)\n",
    "        drive.get(link)\n",
    "\n",
    "        html = drive.find_element_by_tag_name('html')\n",
    "\n",
    "        while True:\n",
    "            html.send_keys(Keys.END)\n",
    "            time.sleep(2)\n",
    "            message = drive.find_element_by_id('message')\n",
    "            if message is not None and message.text == 'Sem mais resultados':\n",
    "                break\n",
    "\n",
    "        elements = drive.find_elements_by_id('video-title')\n",
    "\n",
    "        for element in elements:\n",
    "            if element.get_attribute('href') is None:\n",
    "                continue\n",
    "\n",
    "            title = element.get_attribute('title')\n",
    "            href = element.get_attribute('href')\n",
    "\n",
    "            resources.append(dict(title=title, link=href, query=link))\n",
    "\n",
    "    if os.path.exists('parsed_videos.json'):\n",
    "        os.remove('parsed_videos.json')\n",
    "        \n",
    "    with open('parsed_videos.json', 'a+') as output:\n",
    "        output.write(json.dumps(resources))\n",
    "    drive.close()"
   ]
  },
  {
   "cell_type": "code",
   "execution_count": 5,
   "metadata": {},
   "outputs": [
    {
     "output_type": "execute_result",
     "data": {
      "text/plain": [
       "                                                  title  \\\n",
       "0                            Machine Learning Explicado   \n",
       "1          O que é Machine Learning? #HipstersPontoTube   \n",
       "2     Introdução ao Machine Learning (ML de Zero a 1...   \n",
       "3     O que é Machine Learning (Aprendizado de Máqui...   \n",
       "4     Machine Learning: como ensinar uma máquina a a...   \n",
       "...                                                 ...   \n",
       "1816          Multistreaming with Restream.io by s000ys   \n",
       "1817          Multistreaming with Restream.io by s000ys   \n",
       "1818          Multistreaming with Restream.io by s000ys   \n",
       "1819          Multistreaming with Restream.io by s000ys   \n",
       "1820          Multistreaming with Restream.io by s000ys   \n",
       "\n",
       "                                             link  \\\n",
       "0     https://www.youtube.com/watch?v=0PrOA2JK6GQ   \n",
       "1     https://www.youtube.com/watch?v=Iuz_jc96bQk   \n",
       "2     https://www.youtube.com/watch?v=t5z5lyrb-7s   \n",
       "3     https://www.youtube.com/watch?v=qDmojpkd8rE   \n",
       "4     https://www.youtube.com/watch?v=mhe5e2B9bL8   \n",
       "...                                           ...   \n",
       "1816  https://www.youtube.com/watch?v=dMD1RCmCHgk   \n",
       "1817  https://www.youtube.com/watch?v=czzXyhVAumc   \n",
       "1818  https://www.youtube.com/watch?v=Oc2grJKSBws   \n",
       "1819  https://www.youtube.com/watch?v=ifKVfPwL_t0   \n",
       "1820  https://www.youtube.com/watch?v=WB2mfRyJI-0   \n",
       "\n",
       "                                                  query  \n",
       "0     https://www.youtube.com/results?search_query=m...  \n",
       "1     https://www.youtube.com/results?search_query=m...  \n",
       "2     https://www.youtube.com/results?search_query=m...  \n",
       "3     https://www.youtube.com/results?search_query=m...  \n",
       "4     https://www.youtube.com/results?search_query=m...  \n",
       "...                                                 ...  \n",
       "1816  https://www.youtube.com/results?search_query=k...  \n",
       "1817  https://www.youtube.com/results?search_query=k...  \n",
       "1818  https://www.youtube.com/results?search_query=k...  \n",
       "1819  https://www.youtube.com/results?search_query=k...  \n",
       "1820  https://www.youtube.com/results?search_query=k...  \n",
       "\n",
       "[1821 rows x 3 columns]"
      ],
      "text/html": "<div>\n<style scoped>\n    .dataframe tbody tr th:only-of-type {\n        vertical-align: middle;\n    }\n\n    .dataframe tbody tr th {\n        vertical-align: top;\n    }\n\n    .dataframe thead th {\n        text-align: right;\n    }\n</style>\n<table border=\"1\" class=\"dataframe\">\n  <thead>\n    <tr style=\"text-align: right;\">\n      <th></th>\n      <th>title</th>\n      <th>link</th>\n      <th>query</th>\n    </tr>\n  </thead>\n  <tbody>\n    <tr>\n      <th>0</th>\n      <td>Machine Learning Explicado</td>\n      <td>https://www.youtube.com/watch?v=0PrOA2JK6GQ</td>\n      <td>https://www.youtube.com/results?search_query=m...</td>\n    </tr>\n    <tr>\n      <th>1</th>\n      <td>O que é Machine Learning? #HipstersPontoTube</td>\n      <td>https://www.youtube.com/watch?v=Iuz_jc96bQk</td>\n      <td>https://www.youtube.com/results?search_query=m...</td>\n    </tr>\n    <tr>\n      <th>2</th>\n      <td>Introdução ao Machine Learning (ML de Zero a 1...</td>\n      <td>https://www.youtube.com/watch?v=t5z5lyrb-7s</td>\n      <td>https://www.youtube.com/results?search_query=m...</td>\n    </tr>\n    <tr>\n      <th>3</th>\n      <td>O que é Machine Learning (Aprendizado de Máqui...</td>\n      <td>https://www.youtube.com/watch?v=qDmojpkd8rE</td>\n      <td>https://www.youtube.com/results?search_query=m...</td>\n    </tr>\n    <tr>\n      <th>4</th>\n      <td>Machine Learning: como ensinar uma máquina a a...</td>\n      <td>https://www.youtube.com/watch?v=mhe5e2B9bL8</td>\n      <td>https://www.youtube.com/results?search_query=m...</td>\n    </tr>\n    <tr>\n      <th>...</th>\n      <td>...</td>\n      <td>...</td>\n      <td>...</td>\n    </tr>\n    <tr>\n      <th>1816</th>\n      <td>Multistreaming with Restream.io by s000ys</td>\n      <td>https://www.youtube.com/watch?v=dMD1RCmCHgk</td>\n      <td>https://www.youtube.com/results?search_query=k...</td>\n    </tr>\n    <tr>\n      <th>1817</th>\n      <td>Multistreaming with Restream.io by s000ys</td>\n      <td>https://www.youtube.com/watch?v=czzXyhVAumc</td>\n      <td>https://www.youtube.com/results?search_query=k...</td>\n    </tr>\n    <tr>\n      <th>1818</th>\n      <td>Multistreaming with Restream.io by s000ys</td>\n      <td>https://www.youtube.com/watch?v=Oc2grJKSBws</td>\n      <td>https://www.youtube.com/results?search_query=k...</td>\n    </tr>\n    <tr>\n      <th>1819</th>\n      <td>Multistreaming with Restream.io by s000ys</td>\n      <td>https://www.youtube.com/watch?v=ifKVfPwL_t0</td>\n      <td>https://www.youtube.com/results?search_query=k...</td>\n    </tr>\n    <tr>\n      <th>1820</th>\n      <td>Multistreaming with Restream.io by s000ys</td>\n      <td>https://www.youtube.com/watch?v=WB2mfRyJI-0</td>\n      <td>https://www.youtube.com/results?search_query=k...</td>\n    </tr>\n  </tbody>\n</table>\n<p>1821 rows × 3 columns</p>\n</div>"
     },
     "metadata": {},
     "execution_count": 5
    }
   ],
   "source": [
    "df = pd.read_json('parsed_videos.json')\n",
    "df"
   ]
  },
  {
   "cell_type": "code",
   "execution_count": 7,
   "metadata": {},
   "outputs": [
    {
     "output_type": "stream",
     "name": "stdout",
     "text": [
      "<class 'pandas.core.frame.DataFrame'>\nRangeIndex: 1821 entries, 0 to 1820\nData columns (total 3 columns):\n #   Column  Non-Null Count  Dtype \n---  ------  --------------  ----- \n 0   title   1821 non-null   object\n 1   link    1821 non-null   object\n 2   query   1821 non-null   object\ndtypes: object(3)\nmemory usage: 42.8+ KB\n"
     ]
    }
   ],
   "source": [
    "df.info()"
   ]
  },
  {
   "cell_type": "code",
   "execution_count": 8,
   "metadata": {},
   "outputs": [
    {
     "output_type": "execute_result",
     "data": {
      "text/plain": [
       "                                            title  \\\n",
       "count                                        1821   \n",
       "unique                                       1749   \n",
       "top     Multistreaming with Restream.io by s000ys   \n",
       "freq                                           13   \n",
       "\n",
       "                                               link  \\\n",
       "count                                          1821   \n",
       "unique                                         1768   \n",
       "top     https://www.youtube.com/watch?v=k2P_pHQDlp0   \n",
       "freq                                              3   \n",
       "\n",
       "                                                    query  \n",
       "count                                                1821  \n",
       "unique                                                  3  \n",
       "top     https://www.youtube.com/results?search_query=k...  \n",
       "freq                                                  662  "
      ],
      "text/html": "<div>\n<style scoped>\n    .dataframe tbody tr th:only-of-type {\n        vertical-align: middle;\n    }\n\n    .dataframe tbody tr th {\n        vertical-align: top;\n    }\n\n    .dataframe thead th {\n        text-align: right;\n    }\n</style>\n<table border=\"1\" class=\"dataframe\">\n  <thead>\n    <tr style=\"text-align: right;\">\n      <th></th>\n      <th>title</th>\n      <th>link</th>\n      <th>query</th>\n    </tr>\n  </thead>\n  <tbody>\n    <tr>\n      <th>count</th>\n      <td>1821</td>\n      <td>1821</td>\n      <td>1821</td>\n    </tr>\n    <tr>\n      <th>unique</th>\n      <td>1749</td>\n      <td>1768</td>\n      <td>3</td>\n    </tr>\n    <tr>\n      <th>top</th>\n      <td>Multistreaming with Restream.io by s000ys</td>\n      <td>https://www.youtube.com/watch?v=k2P_pHQDlp0</td>\n      <td>https://www.youtube.com/results?search_query=k...</td>\n    </tr>\n    <tr>\n      <th>freq</th>\n      <td>13</td>\n      <td>3</td>\n      <td>662</td>\n    </tr>\n  </tbody>\n</table>\n</div>"
     },
     "metadata": {},
     "execution_count": 8
    }
   ],
   "source": [
    "df.describe()"
   ]
  },
  {
   "cell_type": "code",
   "execution_count": null,
   "metadata": {},
   "outputs": [],
   "source": []
  }
 ]
}