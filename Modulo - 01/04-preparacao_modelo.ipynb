{
 "metadata": {
  "language_info": {
   "codemirror_mode": {
    "name": "ipython",
    "version": 3
   },
   "file_extension": ".py",
   "mimetype": "text/x-python",
   "name": "python",
   "nbconvert_exporter": "python",
   "pygments_lexer": "ipython3",
   "version": "3.8.5-final"
  },
  "orig_nbformat": 2,
  "kernelspec": {
   "name": "python3",
   "display_name": "Python 3.8.5 64-bit (conda)",
   "metadata": {
    "interpreter": {
     "hash": "2c1855c28b8b597f057332dae11de67c6b939458ee52262e1ccdf6e51de96f0d"
    }
   }
  }
 },
 "nbformat": 4,
 "nbformat_minor": 2,
 "cells": [
  {
   "cell_type": "code",
   "execution_count": 1,
   "metadata": {},
   "outputs": [],
   "source": [
    "import pandas as pd\n",
    "import numpy as np\n",
    "import matplotlib.pyplot as plt"
   ]
  },
  {
   "cell_type": "code",
   "execution_count": 2,
   "metadata": {},
   "outputs": [],
   "source": [
    "plt.style.use('ggplot')"
   ]
  },
  {
   "cell_type": "code",
   "execution_count": 3,
   "metadata": {},
   "outputs": [],
   "source": [
    "df = pd.read_excel('raw_data_with_label.xlsx', sheet_name='links', index_col=0)\n",
    "df = df[df['y'].notnull()]\n",
    "df.dropna(inplace=True)"
   ]
  },
  {
   "cell_type": "code",
   "execution_count": 4,
   "metadata": {},
   "outputs": [],
   "source": [
    "from sklearn.linear_model import LogisticRegression\n",
    "from sklearn.ensemble import RandomForestClassifier"
   ]
  },
  {
   "cell_type": "code",
   "execution_count": 5,
   "metadata": {},
   "outputs": [],
   "source": [
    "df_limpo = pd.DataFrame(index=df.index)\n",
    "df_limpo['title']  = df['title']\n",
    "df_limpo['views'] = df['view_counts'].astype(int)"
   ]
  },
  {
   "source": [
    "## 1. Limpeza da data"
   ],
   "cell_type": "markdown",
   "metadata": {}
  },
  {
   "cell_type": "code",
   "execution_count": 6,
   "metadata": {},
   "outputs": [],
   "source": [
    "clean_date = df['video_date'].str.extract(r'(\\d+) de (\\w+)\\. de (\\d+)')\n",
    "clean_date[0] = clean_date[0].map(lambda x: \"0\"+ x[0] if len(x[0]) == 1 else x)\n",
    "\n",
    "mapa_meses = {\n",
    "    'jan': 'Jan',\n",
    "    'fev': 'Feb',\n",
    "    'mar': 'Mar',\n",
    "    'abr': 'Apr',\n",
    "    'mai': 'May',\n",
    "    'jun': 'Jun',\n",
    "    'jul': 'Jul',\n",
    "    'ago': 'Aug',\n",
    "    'set': 'Sep',\n",
    "    'out': 'Oct',\n",
    "    'nov': 'Nov',\n",
    "    'dez': 'Dec'\n",
    "}\n",
    "\n",
    "clean_date[1] = clean_date[1].map(mapa_meses)\n",
    "clean_date = clean_date.apply(lambda x: ' '.join(x), axis=1)\n",
    "clean_date.head()\n",
    "df_limpo['date'] = pd.to_datetime(clean_date, format='%d %b %Y')"
   ]
  },
  {
   "source": [
    "indexs = df_limpo['date'].loc[df_limpo['date'].dt.year < 2018].index.values\n",
    "\n",
    "df_limpo.drop(index=indexs, axis='rows', inplace=True)\n",
    "df.drop(index=indexs, axis='rows', inplace=True)"
   ],
   "cell_type": "code",
   "metadata": {},
   "execution_count": 7,
   "outputs": []
  },
  {
   "cell_type": "code",
   "execution_count": 8,
   "metadata": {},
   "outputs": [
    {
     "output_type": "stream",
     "name": "stdout",
     "text": [
      "(370, 3) (370, 9)\n"
     ]
    }
   ],
   "source": [
    "print(df_limpo.shape, df.shape)"
   ]
  },
  {
   "source": [
    "## 2. Features"
   ],
   "cell_type": "markdown",
   "metadata": {}
  },
  {
   "cell_type": "code",
   "execution_count": 9,
   "metadata": {},
   "outputs": [],
   "source": [
    "features = pd.DataFrame(index=df_limpo.index)\n",
    "y = df['y'].copy()\n",
    "\n",
    "features['tempo_desde_pub'] = (pd.to_datetime('2021-03-18') - df_limpo['date']) / np.timedelta64(1, 'D')\n",
    "features['views'] = df_limpo['views']\n",
    "features['views_por_dia'] = features['views'] / features['tempo_desde_pub']"
   ]
  },
  {
   "cell_type": "code",
   "execution_count": 10,
   "metadata": {},
   "outputs": [],
   "source": [
    "qtd = len(df_limpo['date'])\n",
    "meio = qtd // 2 if qtd % 2 == 0 else (qtd // 2) + 1\n",
    "date = str(pd.Timestamp(df_limpo.sort_values(by='date')['date'].values[meio]).date())"
   ]
  },
  {
   "cell_type": "code",
   "execution_count": 11,
   "metadata": {},
   "outputs": [
    {
     "output_type": "stream",
     "name": "stdout",
     "text": [
      "(185, 3) (185,) (185, 3) (185,)\n"
     ]
    }
   ],
   "source": [
    "mask_train = df_limpo['date'] < date\n",
    "mask_val = df_limpo['date'] >= date\n",
    "\n",
    "X_train, X_val = features[mask_train], features[mask_val]\n",
    "y_train, y_val = y[mask_train], y[mask_val]\n",
    "print(X_train.shape, y_train.shape, X_val.shape, y_val.shape)"
   ]
  },
  {
   "cell_type": "code",
   "execution_count": 12,
   "metadata": {},
   "outputs": [],
   "source": [
    "from sklearn.feature_extraction.text import TfidfVectorizer\n",
    "\n",
    "title_train = df_limpo[mask_train]['title']\n",
    "title_val = df_limpo[mask_val]['title']\n",
    "\n",
    "title_vec = TfidfVectorizer(min_df=2) # numero de minimo que uma palavra aparece nos dados para poder virar uma coluna\n",
    "title_bow_train = title_vec.fit_transform(title_train)\n",
    "title_bow_val = title_vec.transform(title_val)"
   ]
  },
  {
   "cell_type": "code",
   "execution_count": 13,
   "metadata": {},
   "outputs": [
    {
     "output_type": "execute_result",
     "data": {
      "text/plain": [
       "(185, 158)"
      ]
     },
     "metadata": {},
     "execution_count": 13
    }
   ],
   "source": [
    "title_bow_train.shape"
   ]
  },
  {
   "cell_type": "code",
   "execution_count": 14,
   "metadata": {},
   "outputs": [
    {
     "output_type": "execute_result",
     "data": {
      "text/plain": [
       "<185x158 sparse matrix of type '<class 'numpy.float64'>'\n",
       "\twith 1065 stored elements in Compressed Sparse Row format>"
      ]
     },
     "metadata": {},
     "execution_count": 14
    }
   ],
   "source": [
    "title_bow_train"
   ]
  },
  {
   "cell_type": "code",
   "execution_count": 15,
   "metadata": {},
   "outputs": [
    {
     "output_type": "execute_result",
     "data": {
      "text/plain": [
       "0.9864778956245337"
      ]
     },
     "metadata": {},
     "execution_count": 15
    }
   ],
   "source": [
    "1 - 4169/(645*478) # 98 % do dados dessa matriz são valores 0 "
   ]
  },
  {
   "cell_type": "code",
   "execution_count": 16,
   "metadata": {},
   "outputs": [],
   "source": [
    "# hstack - [1 2]  [3 4] -> [1 2 3 4] - 1x4\n",
    "# vstach - [1 2]  [3 4] -> [1 2] - 2x2\n",
    "#                          [3 4]"
   ]
  },
  {
   "cell_type": "code",
   "execution_count": 17,
   "metadata": {},
   "outputs": [],
   "source": [
    "from scipy.sparse import hstack, vstack\n",
    "\n",
    "X_train_wtitle = hstack([X_train, title_bow_train])\n",
    "X_val_wtitle = hstack([X_val, title_bow_val])"
   ]
  },
  {
   "cell_type": "code",
   "execution_count": 18,
   "metadata": {},
   "outputs": [
    {
     "output_type": "stream",
     "name": "stdout",
     "text": [
      "(185, 161) (185, 161)\n"
     ]
    }
   ],
   "source": [
    "print(X_train_wtitle.shape, X_val_wtitle.shape)"
   ]
  },
  {
   "cell_type": "code",
   "execution_count": 19,
   "metadata": {},
   "outputs": [
    {
     "output_type": "execute_result",
     "data": {
      "text/plain": [
       "RandomForestClassifier(class_weight='balanced', n_estimators=1000, n_jobs=6,\n",
       "                       random_state=0)"
      ]
     },
     "metadata": {},
     "execution_count": 19
    }
   ],
   "source": [
    "mdl = RandomForestClassifier(n_estimators=1000, random_state=0, class_weight='balanced', n_jobs=6)\n",
    "mdl.fit(X_train_wtitle, y_train)"
   ]
  },
  {
   "cell_type": "code",
   "execution_count": 20,
   "metadata": {},
   "outputs": [],
   "source": [
    "p = mdl.predict_proba(X_val_wtitle)[:,1]"
   ]
  },
  {
   "cell_type": "code",
   "execution_count": 21,
   "metadata": {},
   "outputs": [],
   "source": [
    "from sklearn.metrics import roc_auc_score, average_precision_score"
   ]
  },
  {
   "cell_type": "code",
   "execution_count": 22,
   "metadata": {},
   "outputs": [
    {
     "output_type": "execute_result",
     "data": {
      "text/plain": [
       "0.3317998943372271"
      ]
     },
     "metadata": {},
     "execution_count": 22
    }
   ],
   "source": [
    "average_precision_score(y_val, p)"
   ]
  },
  {
   "cell_type": "code",
   "execution_count": 23,
   "metadata": {},
   "outputs": [
    {
     "output_type": "execute_result",
     "data": {
      "text/plain": [
       "0.6730984340044742"
      ]
     },
     "metadata": {},
     "execution_count": 23
    }
   ],
   "source": [
    "roc_auc_score(y_val, p)"
   ]
  },
  {
   "source": [
    "## 3. Active Learning"
   ],
   "cell_type": "markdown",
   "metadata": {}
  },
  {
   "source": [
    "70 exemplos que o modelo tenha dificuldade\n",
    "\n",
    "30 exemplos aleatoriamente"
   ],
   "cell_type": "markdown",
   "metadata": {}
  },
  {
   "cell_type": "code",
   "execution_count": 24,
   "metadata": {},
   "outputs": [],
   "source": [
    "df_unlabeled = pd.read_excel('raw_data_with_label.xlsx', sheet_name='links', index_col=0)\n",
    "\n",
    "columns = list(df_unlabeled.columns)\n",
    "columns.remove('y')\n",
    "\n",
    "df_unlabeled = df_unlabeled[df_unlabeled['y'].isnull()].dropna(subset=columns, how='any')"
   ]
  },
  {
   "cell_type": "code",
   "execution_count": 25,
   "metadata": {},
   "outputs": [
    {
     "output_type": "stream",
     "name": "stdout",
     "text": [
      "<class 'pandas.core.frame.DataFrame'>\nInt64Index: 1035 entries, 501 to 1766\nData columns (total 9 columns):\n #   Column       Non-Null Count  Dtype  \n---  ------       --------------  -----  \n 0   link         1035 non-null   object \n 1   title        1035 non-null   object \n 2   canal_nome   1035 non-null   object \n 3   canal_link   1035 non-null   object \n 4   view_counts  1035 non-null   float64\n 5   video_date   1035 non-null   object \n 6   like         1035 non-null   object \n 7   dislike      1035 non-null   object \n 8   y            0 non-null      float64\ndtypes: float64(2), object(7)\nmemory usage: 80.9+ KB\n"
     ]
    }
   ],
   "source": [
    "df_unlabeled.info()"
   ]
  },
  {
   "cell_type": "code",
   "execution_count": 26,
   "metadata": {},
   "outputs": [
    {
     "output_type": "execute_result",
     "data": {
      "text/plain": [
       "                                            link  \\\n",
       "501  https://www.youtube.com/watch?v=GXWBzcAzjoQ   \n",
       "\n",
       "                                                 title      canal_nome  \\\n",
       "501  Kaggle - Titanic Solution [3/3] - Classifier, ...  Minsuk Heo 허민석   \n",
       "\n",
       "                                            canal_link  view_counts  \\\n",
       "501  https://www.youtube.com/channel/UCxP77kNgVfiiG...      23703.0   \n",
       "\n",
       "             video_date                    like                   dislike   y  \n",
       "501  29 de out. de 2017  451 marcações \"Gostei\"  6 marcações \"Não gostei\" NaN  "
      ],
      "text/html": "<div>\n<style scoped>\n    .dataframe tbody tr th:only-of-type {\n        vertical-align: middle;\n    }\n\n    .dataframe tbody tr th {\n        vertical-align: top;\n    }\n\n    .dataframe thead th {\n        text-align: right;\n    }\n</style>\n<table border=\"1\" class=\"dataframe\">\n  <thead>\n    <tr style=\"text-align: right;\">\n      <th></th>\n      <th>link</th>\n      <th>title</th>\n      <th>canal_nome</th>\n      <th>canal_link</th>\n      <th>view_counts</th>\n      <th>video_date</th>\n      <th>like</th>\n      <th>dislike</th>\n      <th>y</th>\n    </tr>\n  </thead>\n  <tbody>\n    <tr>\n      <th>501</th>\n      <td>https://www.youtube.com/watch?v=GXWBzcAzjoQ</td>\n      <td>Kaggle - Titanic Solution [3/3] - Classifier, ...</td>\n      <td>Minsuk Heo 허민석</td>\n      <td>https://www.youtube.com/channel/UCxP77kNgVfiiG...</td>\n      <td>23703.0</td>\n      <td>29 de out. de 2017</td>\n      <td>451 marcações \"Gostei\"</td>\n      <td>6 marcações \"Não gostei\"</td>\n      <td>NaN</td>\n    </tr>\n  </tbody>\n</table>\n</div>"
     },
     "metadata": {},
     "execution_count": 26
    }
   ],
   "source": [
    "df_unlabeled.head(1)"
   ]
  },
  {
   "cell_type": "code",
   "execution_count": 27,
   "metadata": {},
   "outputs": [],
   "source": [
    "df_limpo_u = pd.DataFrame(index=df_unlabeled.index)\n",
    "df_limpo_u['title'] = df_unlabeled['title']\n",
    "df_limpo_u['views'] = df_unlabeled['view_counts'].astype(int)"
   ]
  },
  {
   "cell_type": "code",
   "execution_count": 28,
   "metadata": {},
   "outputs": [],
   "source": [
    "clean_date = df_unlabeled['video_date'].str.extract(r'(\\d+) de (\\w+)\\. de (\\d+)')\n",
    "clean_date[0] = clean_date[0].map(lambda x: \"0\"+ x[0] if len(x[0]) == 1 else x)\n",
    "\n",
    "mapa_meses = {\n",
    "    'jan': 'Jan',\n",
    "    'fev': 'Feb',\n",
    "    'mar': 'Mar',\n",
    "    'abr': 'Apr',\n",
    "    'mai': 'May',\n",
    "    'jun': 'Jun',\n",
    "    'jul': 'Jul',\n",
    "    'ago': 'Aug',\n",
    "    'set': 'Sep',\n",
    "    'out': 'Oct',\n",
    "    'nov': 'Nov',\n",
    "    'dez': 'Dec'\n",
    "}\n",
    "\n",
    "clean_date[1] = clean_date[1].map(mapa_meses)\n",
    "clean_date = clean_date.apply(lambda x: ' '.join(x), axis=1)\n",
    "clean_date.head()\n",
    "df_limpo_u['date'] = pd.to_datetime(clean_date, format='%d %b %Y')"
   ]
  },
  {
   "cell_type": "code",
   "execution_count": 29,
   "metadata": {},
   "outputs": [],
   "source": [
    "indexs = df_limpo_u['date'].loc[df_limpo_u['date'].dt.year < 2018].index.values\n",
    "\n",
    "df_limpo_u.drop(index=indexs, axis='rows', inplace=True)\n",
    "df_unlabeled.drop(index=indexs, axis='rows', inplace=True)"
   ]
  },
  {
   "cell_type": "code",
   "execution_count": 30,
   "metadata": {},
   "outputs": [
    {
     "output_type": "execute_result",
     "data": {
      "text/plain": [
       "                                                  title   views       date\n",
       "503   Data Analytics for Beginners | Google Data Ana...  119917 2021-02-02\n",
       "505   BCG Gamma: data science and advanced analytics...    4051 2020-04-01\n",
       "506   Learn Machine Learning and Artificial Intellig...   36457 2020-06-01\n",
       "507   Data Science Project from Scratch - Part 2 (Da...   42237 2020-04-06\n",
       "508             Paris Demoday | Data Science batch #359    1719 2020-03-01\n",
       "...                                                 ...     ...        ...\n",
       "1759  MIT 6.S091: Introduction to Deep Reinforcement...  157292 2019-01-02\n",
       "1760      Πως να Ξεκινήσω με Machine Learning, NerdCast    4818 2020-09-03\n",
       "1762             Math Needed for Mastering Data Science   36019 2019-12-09\n",
       "1765  HIN Webcast: The Revolution of Tomorrow - Arti...     527 2021-03-01\n",
       "1766                             Week 1 of Kaggle BIPOC      16 2021-03-01\n",
       "\n",
       "[937 rows x 3 columns]"
      ],
      "text/html": "<div>\n<style scoped>\n    .dataframe tbody tr th:only-of-type {\n        vertical-align: middle;\n    }\n\n    .dataframe tbody tr th {\n        vertical-align: top;\n    }\n\n    .dataframe thead th {\n        text-align: right;\n    }\n</style>\n<table border=\"1\" class=\"dataframe\">\n  <thead>\n    <tr style=\"text-align: right;\">\n      <th></th>\n      <th>title</th>\n      <th>views</th>\n      <th>date</th>\n    </tr>\n  </thead>\n  <tbody>\n    <tr>\n      <th>503</th>\n      <td>Data Analytics for Beginners | Google Data Ana...</td>\n      <td>119917</td>\n      <td>2021-02-02</td>\n    </tr>\n    <tr>\n      <th>505</th>\n      <td>BCG Gamma: data science and advanced analytics...</td>\n      <td>4051</td>\n      <td>2020-04-01</td>\n    </tr>\n    <tr>\n      <th>506</th>\n      <td>Learn Machine Learning and Artificial Intellig...</td>\n      <td>36457</td>\n      <td>2020-06-01</td>\n    </tr>\n    <tr>\n      <th>507</th>\n      <td>Data Science Project from Scratch - Part 2 (Da...</td>\n      <td>42237</td>\n      <td>2020-04-06</td>\n    </tr>\n    <tr>\n      <th>508</th>\n      <td>Paris Demoday | Data Science batch #359</td>\n      <td>1719</td>\n      <td>2020-03-01</td>\n    </tr>\n    <tr>\n      <th>...</th>\n      <td>...</td>\n      <td>...</td>\n      <td>...</td>\n    </tr>\n    <tr>\n      <th>1759</th>\n      <td>MIT 6.S091: Introduction to Deep Reinforcement...</td>\n      <td>157292</td>\n      <td>2019-01-02</td>\n    </tr>\n    <tr>\n      <th>1760</th>\n      <td>Πως να Ξεκινήσω με Machine Learning, NerdCast</td>\n      <td>4818</td>\n      <td>2020-09-03</td>\n    </tr>\n    <tr>\n      <th>1762</th>\n      <td>Math Needed for Mastering Data Science</td>\n      <td>36019</td>\n      <td>2019-12-09</td>\n    </tr>\n    <tr>\n      <th>1765</th>\n      <td>HIN Webcast: The Revolution of Tomorrow - Arti...</td>\n      <td>527</td>\n      <td>2021-03-01</td>\n    </tr>\n    <tr>\n      <th>1766</th>\n      <td>Week 1 of Kaggle BIPOC</td>\n      <td>16</td>\n      <td>2021-03-01</td>\n    </tr>\n  </tbody>\n</table>\n<p>937 rows × 3 columns</p>\n</div>"
     },
     "metadata": {},
     "execution_count": 30
    }
   ],
   "source": [
    "df_limpo_u"
   ]
  },
  {
   "cell_type": "code",
   "execution_count": 31,
   "metadata": {},
   "outputs": [
    {
     "output_type": "stream",
     "name": "stdout",
     "text": [
      "<class 'pandas.core.frame.DataFrame'>\nInt64Index: 937 entries, 503 to 1766\nData columns (total 3 columns):\n #   Column  Non-Null Count  Dtype         \n---  ------  --------------  -----         \n 0   title   937 non-null    object        \n 1   views   937 non-null    int32         \n 2   date    937 non-null    datetime64[ns]\ndtypes: datetime64[ns](1), int32(1), object(1)\nmemory usage: 25.6+ KB\n"
     ]
    }
   ],
   "source": [
    "df_limpo_u.info()"
   ]
  },
  {
   "cell_type": "code",
   "execution_count": 32,
   "metadata": {},
   "outputs": [
    {
     "output_type": "execute_result",
     "data": {
      "text/plain": [
       "(937, 9)"
      ]
     },
     "metadata": {},
     "execution_count": 32
    }
   ],
   "source": [
    "df_unlabeled.shape"
   ]
  },
  {
   "cell_type": "code",
   "execution_count": 33,
   "metadata": {},
   "outputs": [],
   "source": [
    "features_u = pd.DataFrame(index=df_limpo_u.index)\n",
    "\n",
    "features_u['tempo_desde_pub'] = (pd.to_datetime('2021-03-18') - df_limpo_u['date']) / np.timedelta64(1, 'D')\n",
    "features_u['views'] = df_limpo_u['views']\n",
    "features_u['views_por_dia'] = features_u['views'] / features_u['tempo_desde_pub']"
   ]
  },
  {
   "cell_type": "code",
   "execution_count": 34,
   "metadata": {},
   "outputs": [
    {
     "output_type": "execute_result",
     "data": {
      "text/plain": [
       "     tempo_desde_pub   views  views_por_dia\n",
       "503             44.0  119917    2725.386364"
      ],
      "text/html": "<div>\n<style scoped>\n    .dataframe tbody tr th:only-of-type {\n        vertical-align: middle;\n    }\n\n    .dataframe tbody tr th {\n        vertical-align: top;\n    }\n\n    .dataframe thead th {\n        text-align: right;\n    }\n</style>\n<table border=\"1\" class=\"dataframe\">\n  <thead>\n    <tr style=\"text-align: right;\">\n      <th></th>\n      <th>tempo_desde_pub</th>\n      <th>views</th>\n      <th>views_por_dia</th>\n    </tr>\n  </thead>\n  <tbody>\n    <tr>\n      <th>503</th>\n      <td>44.0</td>\n      <td>119917</td>\n      <td>2725.386364</td>\n    </tr>\n  </tbody>\n</table>\n</div>"
     },
     "metadata": {},
     "execution_count": 34
    }
   ],
   "source": [
    "features_u.head(1)"
   ]
  },
  {
   "cell_type": "code",
   "execution_count": 35,
   "metadata": {},
   "outputs": [],
   "source": [
    "from sklearn.feature_extraction.text import TfidfVectorizer\n",
    "\n",
    "title_u = df_limpo_u['title']\n",
    "title_bow_u = title_vec.transform(title_u)"
   ]
  },
  {
   "cell_type": "code",
   "execution_count": 36,
   "metadata": {},
   "outputs": [
    {
     "output_type": "execute_result",
     "data": {
      "text/plain": [
       "<937x158 sparse matrix of type '<class 'numpy.float64'>'\n",
       "\twith 4502 stored elements in Compressed Sparse Row format>"
      ]
     },
     "metadata": {},
     "execution_count": 36
    }
   ],
   "source": [
    "title_bow_u"
   ]
  },
  {
   "cell_type": "code",
   "execution_count": 37,
   "metadata": {},
   "outputs": [],
   "source": [
    "Xu_wtitle = hstack([features_u, title_bow_u])"
   ]
  },
  {
   "cell_type": "code",
   "execution_count": 38,
   "metadata": {},
   "outputs": [
    {
     "output_type": "execute_result",
     "data": {
      "text/plain": [
       "<937x161 sparse matrix of type '<class 'numpy.float64'>'\n",
       "\twith 7307 stored elements in COOrdinate format>"
      ]
     },
     "metadata": {},
     "execution_count": 38
    }
   ],
   "source": [
    "Xu_wtitle"
   ]
  },
  {
   "cell_type": "code",
   "execution_count": 39,
   "metadata": {},
   "outputs": [],
   "source": [
    "pu = mdl.predict_proba(Xu_wtitle)[:,1]"
   ]
  },
  {
   "cell_type": "code",
   "execution_count": 40,
   "metadata": {},
   "outputs": [],
   "source": [
    "df_unlabeled['p'] = pu"
   ]
  },
  {
   "cell_type": "code",
   "execution_count": 42,
   "metadata": {},
   "outputs": [
    {
     "output_type": "execute_result",
     "data": {
      "text/plain": [
       "                                            link  \\\n",
       "503  https://www.youtube.com/watch?v=GbL-42kv5LI   \n",
       "\n",
       "                                                 title       canal_nome  \\\n",
       "503  Data Analytics for Beginners | Google Data Ana...  #GrowWithGoogle   \n",
       "\n",
       "                                         canal_link  view_counts  \\\n",
       "503  https://www.youtube.com/hashtag/growwithgoogle     119917.0   \n",
       "\n",
       "             video_date                      like                    dislike  \\\n",
       "503  25 de fev. de 2021  4.280 marcações \"Gostei\"  33 marcações \"Não gostei\"   \n",
       "\n",
       "      y      p  \n",
       "503 NaN  0.151  "
      ],
      "text/html": "<div>\n<style scoped>\n    .dataframe tbody tr th:only-of-type {\n        vertical-align: middle;\n    }\n\n    .dataframe tbody tr th {\n        vertical-align: top;\n    }\n\n    .dataframe thead th {\n        text-align: right;\n    }\n</style>\n<table border=\"1\" class=\"dataframe\">\n  <thead>\n    <tr style=\"text-align: right;\">\n      <th></th>\n      <th>link</th>\n      <th>title</th>\n      <th>canal_nome</th>\n      <th>canal_link</th>\n      <th>view_counts</th>\n      <th>video_date</th>\n      <th>like</th>\n      <th>dislike</th>\n      <th>y</th>\n      <th>p</th>\n    </tr>\n  </thead>\n  <tbody>\n    <tr>\n      <th>503</th>\n      <td>https://www.youtube.com/watch?v=GbL-42kv5LI</td>\n      <td>Data Analytics for Beginners | Google Data Ana...</td>\n      <td>#GrowWithGoogle</td>\n      <td>https://www.youtube.com/hashtag/growwithgoogle</td>\n      <td>119917.0</td>\n      <td>25 de fev. de 2021</td>\n      <td>4.280 marcações \"Gostei\"</td>\n      <td>33 marcações \"Não gostei\"</td>\n      <td>NaN</td>\n      <td>0.151</td>\n    </tr>\n  </tbody>\n</table>\n</div>"
     },
     "metadata": {},
     "execution_count": 42
    }
   ],
   "source": [
    "df_unlabeled.head(1)"
   ]
  },
  {
   "source": [
    "### Exemplos que ficaram no limiar do modelo com dificuldade de classificação"
   ],
   "cell_type": "markdown",
   "metadata": {}
  },
  {
   "cell_type": "code",
   "execution_count": 49,
   "metadata": {},
   "outputs": [
    {
     "output_type": "execute_result",
     "data": {
      "text/plain": [
       "13"
      ]
     },
     "metadata": {},
     "execution_count": 49
    }
   ],
   "source": [
    "mask_u = (df_unlabeled['p'] >= 0.45) & (df_unlabeled['p'] <= 0.55)\n",
    "mask_u.sum()"
   ]
  },
  {
   "cell_type": "code",
   "execution_count": 48,
   "metadata": {},
   "outputs": [
    {
     "output_type": "execute_result",
     "data": {
      "text/plain": [
       "                                             link  \\\n",
       "1598  https://www.youtube.com/watch?v=tXVNS-V39A0   \n",
       "1138  https://www.youtube.com/watch?v=da9Q3xoHOxw   \n",
       "599   https://www.youtube.com/watch?v=JgvyzIkgxF0   \n",
       "1145  https://www.youtube.com/watch?v=dl_ZsuHSIFE   \n",
       "595   https://www.youtube.com/watch?v=J_LnPL3Qg70   \n",
       "704   https://www.youtube.com/watch?v=Ny82iVL6vQ8   \n",
       "774   https://www.youtube.com/watch?v=Qimv6lJBnX4   \n",
       "768   https://www.youtube.com/watch?v=QK16mGnLCig   \n",
       "711   https://www.youtube.com/watch?v=OCwZyYH14uw   \n",
       "1315  https://www.youtube.com/watch?v=js6C2mLXEDw   \n",
       "1191  https://www.youtube.com/watch?v=fSytzGwwBVw   \n",
       "995   https://www.youtube.com/watch?v=ZCEozcUj1DI   \n",
       "655   https://www.youtube.com/watch?v=LxvFuLDXUdk   \n",
       "\n",
       "                                                  title  \\\n",
       "1598  TensorFlow In 10 Minutes | TensorFlow Tutorial...   \n",
       "1138  Yumeng Ding (Cornell MFE '20) - \"Interpreting ...   \n",
       "599           An introduction to Reinforcement Learning   \n",
       "1145  SVM Kernal- Polynomial And RBF Implementation ...   \n",
       "595   Machine Learning Tutorial Python - 3: Linear R...   \n",
       "704   Snapshots: Hamilton Lyric Generator Using Tens...   \n",
       "774          Machine Learning 🤖 con Kaggle y LoRa 2.0 😲   \n",
       "768   Kaggle competition meetup: M5 Forecasting - Ac...   \n",
       "711   Linear Regression vs Logistic Regression | Dat...   \n",
       "1315  R vs Python | Best Programming Language for Da...   \n",
       "1191  Fundamentos de aprendizado de máquina: Validaç...   \n",
       "995   Transaction Fraud Detection using Machine Lear...   \n",
       "655   Aula #4 - Resolva o Titanic Como um Campeão do...   \n",
       "\n",
       "                                        canal_nome  \\\n",
       "1598                                      edureka!   \n",
       "1138  Cornell Financial Engineering Manhattan CFEM   \n",
       "599                                 Arxiv Insights   \n",
       "1145                                    Krish Naik   \n",
       "595                               #MachineLearning   \n",
       "704                                         Kaggle   \n",
       "774                                        #Kaggle   \n",
       "768                             Learn Data Science   \n",
       "711          #linearregressionvslogisticregression   \n",
       "1315                                    #PythonVsR   \n",
       "1191                   StatQuest with Josh Starmer   \n",
       "995                                #DecisionForest   \n",
       "655                                    Mario Filho   \n",
       "\n",
       "                                             canal_link  view_counts  \\\n",
       "1598  https://www.youtube.com/channel/UCkw4JCwteGrDH...     229057.0   \n",
       "1138  https://www.youtube.com/channel/UCc5EkCmdbJSiP...         29.0   \n",
       "599   https://www.youtube.com/channel/UCNIkB2IeJ-6Am...     349704.0   \n",
       "1145  https://www.youtube.com/channel/UCNU_lfiiWBdtU...       4953.0   \n",
       "595     https://www.youtube.com/hashtag/machinelearning     199229.0   \n",
       "704   https://www.youtube.com/channel/UCSNeZleDn9c74...       4266.0   \n",
       "774              https://www.youtube.com/hashtag/kaggle        306.0   \n",
       "768   https://www.youtube.com/channel/UCJhW_16uxALr0...        777.0   \n",
       "711   https://www.youtube.com/hashtag/linearregressi...     211110.0   \n",
       "1315          https://www.youtube.com/hashtag/pythonvsr     185007.0   \n",
       "1191  https://www.youtube.com/channel/UCtYLUTtgS3k1F...     371769.0   \n",
       "995      https://www.youtube.com/hashtag/decisionforest       3451.0   \n",
       "655   https://www.youtube.com/channel/UCIFd_i2iwYox1...       6731.0   \n",
       "\n",
       "              video_date                       like  \\\n",
       "1598   6 de mai. de 2019   2.860 marcações \"Gostei\"   \n",
       "1138  12 de mar. de 2021        1 marcação \"Gostei\"   \n",
       "599    2 de abr. de 2018  10.691 marcações \"Gostei\"   \n",
       "1145  10 de mar. de 2021     143 marcações \"Gostei\"   \n",
       "595    4 de jul. de 2018   2.587 marcações \"Gostei\"   \n",
       "704    6 de out. de 2020     116 marcações \"Gostei\"   \n",
       "774    9 de mar. de 2021      20 marcações \"Gostei\"   \n",
       "768   20 de set. de 2020      23 marcações \"Gostei\"   \n",
       "711   14 de jan. de 2019   4.276 marcações \"Gostei\"   \n",
       "1315  20 de set. de 2018   3.054 marcações \"Gostei\"   \n",
       "1191  24 de abr. de 2018  12.311 marcações \"Gostei\"   \n",
       "995   23 de jan. de 2020      51 marcações \"Gostei\"   \n",
       "655   14 de ago. de 2019     340 marcações \"Gostei\"   \n",
       "\n",
       "                         dislike   y      p  \n",
       "1598  548 marcações \"Não gostei\" NaN  0.450  \n",
       "1138     1 marcação \"Não gostei\" NaN  0.455  \n",
       "599   140 marcações \"Não gostei\" NaN  0.479  \n",
       "1145    3 marcações \"Não gostei\" NaN  0.481  \n",
       "595   103 marcações \"Não gostei\" NaN  0.484  \n",
       "704     6 marcações \"Não gostei\" NaN  0.492  \n",
       "774   Sem marcações \"Não gostei\" NaN  0.494  \n",
       "768   Sem marcações \"Não gostei\" NaN  0.499  \n",
       "711   120 marcações \"Não gostei\" NaN  0.501  \n",
       "1315  252 marcações \"Não gostei\" NaN  0.503  \n",
       "1191  146 marcações \"Não gostei\" NaN  0.524  \n",
       "995      1 marcação \"Não gostei\" NaN  0.527  \n",
       "655     8 marcações \"Não gostei\" NaN  0.543  "
      ],
      "text/html": "<div>\n<style scoped>\n    .dataframe tbody tr th:only-of-type {\n        vertical-align: middle;\n    }\n\n    .dataframe tbody tr th {\n        vertical-align: top;\n    }\n\n    .dataframe thead th {\n        text-align: right;\n    }\n</style>\n<table border=\"1\" class=\"dataframe\">\n  <thead>\n    <tr style=\"text-align: right;\">\n      <th></th>\n      <th>link</th>\n      <th>title</th>\n      <th>canal_nome</th>\n      <th>canal_link</th>\n      <th>view_counts</th>\n      <th>video_date</th>\n      <th>like</th>\n      <th>dislike</th>\n      <th>y</th>\n      <th>p</th>\n    </tr>\n  </thead>\n  <tbody>\n    <tr>\n      <th>1598</th>\n      <td>https://www.youtube.com/watch?v=tXVNS-V39A0</td>\n      <td>TensorFlow In 10 Minutes | TensorFlow Tutorial...</td>\n      <td>edureka!</td>\n      <td>https://www.youtube.com/channel/UCkw4JCwteGrDH...</td>\n      <td>229057.0</td>\n      <td>6 de mai. de 2019</td>\n      <td>2.860 marcações \"Gostei\"</td>\n      <td>548 marcações \"Não gostei\"</td>\n      <td>NaN</td>\n      <td>0.450</td>\n    </tr>\n    <tr>\n      <th>1138</th>\n      <td>https://www.youtube.com/watch?v=da9Q3xoHOxw</td>\n      <td>Yumeng Ding (Cornell MFE '20) - \"Interpreting ...</td>\n      <td>Cornell Financial Engineering Manhattan CFEM</td>\n      <td>https://www.youtube.com/channel/UCc5EkCmdbJSiP...</td>\n      <td>29.0</td>\n      <td>12 de mar. de 2021</td>\n      <td>1 marcação \"Gostei\"</td>\n      <td>1 marcação \"Não gostei\"</td>\n      <td>NaN</td>\n      <td>0.455</td>\n    </tr>\n    <tr>\n      <th>599</th>\n      <td>https://www.youtube.com/watch?v=JgvyzIkgxF0</td>\n      <td>An introduction to Reinforcement Learning</td>\n      <td>Arxiv Insights</td>\n      <td>https://www.youtube.com/channel/UCNIkB2IeJ-6Am...</td>\n      <td>349704.0</td>\n      <td>2 de abr. de 2018</td>\n      <td>10.691 marcações \"Gostei\"</td>\n      <td>140 marcações \"Não gostei\"</td>\n      <td>NaN</td>\n      <td>0.479</td>\n    </tr>\n    <tr>\n      <th>1145</th>\n      <td>https://www.youtube.com/watch?v=dl_ZsuHSIFE</td>\n      <td>SVM Kernal- Polynomial And RBF Implementation ...</td>\n      <td>Krish Naik</td>\n      <td>https://www.youtube.com/channel/UCNU_lfiiWBdtU...</td>\n      <td>4953.0</td>\n      <td>10 de mar. de 2021</td>\n      <td>143 marcações \"Gostei\"</td>\n      <td>3 marcações \"Não gostei\"</td>\n      <td>NaN</td>\n      <td>0.481</td>\n    </tr>\n    <tr>\n      <th>595</th>\n      <td>https://www.youtube.com/watch?v=J_LnPL3Qg70</td>\n      <td>Machine Learning Tutorial Python - 3: Linear R...</td>\n      <td>#MachineLearning</td>\n      <td>https://www.youtube.com/hashtag/machinelearning</td>\n      <td>199229.0</td>\n      <td>4 de jul. de 2018</td>\n      <td>2.587 marcações \"Gostei\"</td>\n      <td>103 marcações \"Não gostei\"</td>\n      <td>NaN</td>\n      <td>0.484</td>\n    </tr>\n    <tr>\n      <th>704</th>\n      <td>https://www.youtube.com/watch?v=Ny82iVL6vQ8</td>\n      <td>Snapshots: Hamilton Lyric Generator Using Tens...</td>\n      <td>Kaggle</td>\n      <td>https://www.youtube.com/channel/UCSNeZleDn9c74...</td>\n      <td>4266.0</td>\n      <td>6 de out. de 2020</td>\n      <td>116 marcações \"Gostei\"</td>\n      <td>6 marcações \"Não gostei\"</td>\n      <td>NaN</td>\n      <td>0.492</td>\n    </tr>\n    <tr>\n      <th>774</th>\n      <td>https://www.youtube.com/watch?v=Qimv6lJBnX4</td>\n      <td>Machine Learning 🤖 con Kaggle y LoRa 2.0 😲</td>\n      <td>#Kaggle</td>\n      <td>https://www.youtube.com/hashtag/kaggle</td>\n      <td>306.0</td>\n      <td>9 de mar. de 2021</td>\n      <td>20 marcações \"Gostei\"</td>\n      <td>Sem marcações \"Não gostei\"</td>\n      <td>NaN</td>\n      <td>0.494</td>\n    </tr>\n    <tr>\n      <th>768</th>\n      <td>https://www.youtube.com/watch?v=QK16mGnLCig</td>\n      <td>Kaggle competition meetup: M5 Forecasting - Ac...</td>\n      <td>Learn Data Science</td>\n      <td>https://www.youtube.com/channel/UCJhW_16uxALr0...</td>\n      <td>777.0</td>\n      <td>20 de set. de 2020</td>\n      <td>23 marcações \"Gostei\"</td>\n      <td>Sem marcações \"Não gostei\"</td>\n      <td>NaN</td>\n      <td>0.499</td>\n    </tr>\n    <tr>\n      <th>711</th>\n      <td>https://www.youtube.com/watch?v=OCwZyYH14uw</td>\n      <td>Linear Regression vs Logistic Regression | Dat...</td>\n      <td>#linearregressionvslogisticregression</td>\n      <td>https://www.youtube.com/hashtag/linearregressi...</td>\n      <td>211110.0</td>\n      <td>14 de jan. de 2019</td>\n      <td>4.276 marcações \"Gostei\"</td>\n      <td>120 marcações \"Não gostei\"</td>\n      <td>NaN</td>\n      <td>0.501</td>\n    </tr>\n    <tr>\n      <th>1315</th>\n      <td>https://www.youtube.com/watch?v=js6C2mLXEDw</td>\n      <td>R vs Python | Best Programming Language for Da...</td>\n      <td>#PythonVsR</td>\n      <td>https://www.youtube.com/hashtag/pythonvsr</td>\n      <td>185007.0</td>\n      <td>20 de set. de 2018</td>\n      <td>3.054 marcações \"Gostei\"</td>\n      <td>252 marcações \"Não gostei\"</td>\n      <td>NaN</td>\n      <td>0.503</td>\n    </tr>\n    <tr>\n      <th>1191</th>\n      <td>https://www.youtube.com/watch?v=fSytzGwwBVw</td>\n      <td>Fundamentos de aprendizado de máquina: Validaç...</td>\n      <td>StatQuest with Josh Starmer</td>\n      <td>https://www.youtube.com/channel/UCtYLUTtgS3k1F...</td>\n      <td>371769.0</td>\n      <td>24 de abr. de 2018</td>\n      <td>12.311 marcações \"Gostei\"</td>\n      <td>146 marcações \"Não gostei\"</td>\n      <td>NaN</td>\n      <td>0.524</td>\n    </tr>\n    <tr>\n      <th>995</th>\n      <td>https://www.youtube.com/watch?v=ZCEozcUj1DI</td>\n      <td>Transaction Fraud Detection using Machine Lear...</td>\n      <td>#DecisionForest</td>\n      <td>https://www.youtube.com/hashtag/decisionforest</td>\n      <td>3451.0</td>\n      <td>23 de jan. de 2020</td>\n      <td>51 marcações \"Gostei\"</td>\n      <td>1 marcação \"Não gostei\"</td>\n      <td>NaN</td>\n      <td>0.527</td>\n    </tr>\n    <tr>\n      <th>655</th>\n      <td>https://www.youtube.com/watch?v=LxvFuLDXUdk</td>\n      <td>Aula #4 - Resolva o Titanic Como um Campeão do...</td>\n      <td>Mario Filho</td>\n      <td>https://www.youtube.com/channel/UCIFd_i2iwYox1...</td>\n      <td>6731.0</td>\n      <td>14 de ago. de 2019</td>\n      <td>340 marcações \"Gostei\"</td>\n      <td>8 marcações \"Não gostei\"</td>\n      <td>NaN</td>\n      <td>0.543</td>\n    </tr>\n  </tbody>\n</table>\n</div>"
     },
     "metadata": {},
     "execution_count": 48
    }
   ],
   "source": [
    "df_unlabeled[mask_u].sort_values('p')"
   ]
  },
  {
   "source": [
    "### Filtrando os exemplos para novas labels"
   ],
   "cell_type": "markdown",
   "metadata": {}
  },
  {
   "cell_type": "code",
   "execution_count": 65,
   "metadata": {},
   "outputs": [
    {
     "output_type": "execute_result",
     "data": {
      "text/plain": [
       "68"
      ]
     },
     "metadata": {},
     "execution_count": 65
    }
   ],
   "source": [
    "mask_u = (df_unlabeled['p'] >= 0.36) & (df_unlabeled['p'] <= 1.)\n",
    "mask_u.sum()"
   ]
  },
  {
   "cell_type": "code",
   "execution_count": 66,
   "metadata": {},
   "outputs": [
    {
     "output_type": "execute_result",
     "data": {
      "text/plain": [
       "                                             link  \\\n",
       "1057  https://www.youtube.com/watch?v=aJoaVFEOw5U   \n",
       "1107  https://www.youtube.com/watch?v=c8uWUOSGYUI   \n",
       "1453  https://www.youtube.com/watch?v=oV3ZY6tJiA0   \n",
       "910   https://www.youtube.com/watch?v=W-0-u6XVbE4   \n",
       "947   https://www.youtube.com/watch?v=XRJ-rtP2fVE   \n",
       "\n",
       "                                                  title  \\\n",
       "1057                     machine learning why it is imp   \n",
       "1107  Semi-Supervised and Unsupervised Learning Appr...   \n",
       "1453  Neural Networks and Deep Learning: Crash Cours...   \n",
       "910   Overfitting And Underfitting Machine Learning ...   \n",
       "947   The Julia SciML Ecosystem: Scientific Machine ...   \n",
       "\n",
       "                                        canal_nome  \\\n",
       "1057                      TechShiva by Tanya Batra   \n",
       "1107                                        PyData   \n",
       "1453                                  #CrashCourse   \n",
       "910   #OverfittingAndUnderFittingInMachineLearning   \n",
       "947                 The Julia Programming Language   \n",
       "\n",
       "                                             canal_link  view_counts  \\\n",
       "1057  https://www.youtube.com/channel/UC0qX3NHtD2yjz...          5.0   \n",
       "1107  https://www.youtube.com/channel/UCOjD18EJYcsBo...       1463.0   \n",
       "1453        https://www.youtube.com/hashtag/crashcourse     200924.0   \n",
       "910   https://www.youtube.com/hashtag/overfittingand...       3814.0   \n",
       "947   https://www.youtube.com/channel/UC9IuUwwE2xdjQ...       1926.0   \n",
       "\n",
       "              video_date                      like  \\\n",
       "1057  11 de mar. de 2021       1 marcação \"Gostei\"   \n",
       "1107  28 de jan. de 2021     41 marcações \"Gostei\"   \n",
       "1453  23 de ago. de 2019  5.070 marcações \"Gostei\"   \n",
       "910   11 de set. de 2020     77 marcações \"Gostei\"   \n",
       "947    9 de mar. de 2021     75 marcações \"Gostei\"   \n",
       "\n",
       "                         dislike   y      p  \n",
       "1057  Sem marcações \"Não gostei\" NaN  0.360  \n",
       "1107    3 marcações \"Não gostei\" NaN  0.362  \n",
       "1453  114 marcações \"Não gostei\" NaN  0.363  \n",
       "910     4 marcações \"Não gostei\" NaN  0.364  \n",
       "947   Sem marcações \"Não gostei\" NaN  0.364  "
      ],
      "text/html": "<div>\n<style scoped>\n    .dataframe tbody tr th:only-of-type {\n        vertical-align: middle;\n    }\n\n    .dataframe tbody tr th {\n        vertical-align: top;\n    }\n\n    .dataframe thead th {\n        text-align: right;\n    }\n</style>\n<table border=\"1\" class=\"dataframe\">\n  <thead>\n    <tr style=\"text-align: right;\">\n      <th></th>\n      <th>link</th>\n      <th>title</th>\n      <th>canal_nome</th>\n      <th>canal_link</th>\n      <th>view_counts</th>\n      <th>video_date</th>\n      <th>like</th>\n      <th>dislike</th>\n      <th>y</th>\n      <th>p</th>\n    </tr>\n  </thead>\n  <tbody>\n    <tr>\n      <th>1057</th>\n      <td>https://www.youtube.com/watch?v=aJoaVFEOw5U</td>\n      <td>machine learning why it is imp</td>\n      <td>TechShiva by Tanya Batra</td>\n      <td>https://www.youtube.com/channel/UC0qX3NHtD2yjz...</td>\n      <td>5.0</td>\n      <td>11 de mar. de 2021</td>\n      <td>1 marcação \"Gostei\"</td>\n      <td>Sem marcações \"Não gostei\"</td>\n      <td>NaN</td>\n      <td>0.360</td>\n    </tr>\n    <tr>\n      <th>1107</th>\n      <td>https://www.youtube.com/watch?v=c8uWUOSGYUI</td>\n      <td>Semi-Supervised and Unsupervised Learning Appr...</td>\n      <td>PyData</td>\n      <td>https://www.youtube.com/channel/UCOjD18EJYcsBo...</td>\n      <td>1463.0</td>\n      <td>28 de jan. de 2021</td>\n      <td>41 marcações \"Gostei\"</td>\n      <td>3 marcações \"Não gostei\"</td>\n      <td>NaN</td>\n      <td>0.362</td>\n    </tr>\n    <tr>\n      <th>1453</th>\n      <td>https://www.youtube.com/watch?v=oV3ZY6tJiA0</td>\n      <td>Neural Networks and Deep Learning: Crash Cours...</td>\n      <td>#CrashCourse</td>\n      <td>https://www.youtube.com/hashtag/crashcourse</td>\n      <td>200924.0</td>\n      <td>23 de ago. de 2019</td>\n      <td>5.070 marcações \"Gostei\"</td>\n      <td>114 marcações \"Não gostei\"</td>\n      <td>NaN</td>\n      <td>0.363</td>\n    </tr>\n    <tr>\n      <th>910</th>\n      <td>https://www.youtube.com/watch?v=W-0-u6XVbE4</td>\n      <td>Overfitting And Underfitting Machine Learning ...</td>\n      <td>#OverfittingAndUnderFittingInMachineLearning</td>\n      <td>https://www.youtube.com/hashtag/overfittingand...</td>\n      <td>3814.0</td>\n      <td>11 de set. de 2020</td>\n      <td>77 marcações \"Gostei\"</td>\n      <td>4 marcações \"Não gostei\"</td>\n      <td>NaN</td>\n      <td>0.364</td>\n    </tr>\n    <tr>\n      <th>947</th>\n      <td>https://www.youtube.com/watch?v=XRJ-rtP2fVE</td>\n      <td>The Julia SciML Ecosystem: Scientific Machine ...</td>\n      <td>The Julia Programming Language</td>\n      <td>https://www.youtube.com/channel/UC9IuUwwE2xdjQ...</td>\n      <td>1926.0</td>\n      <td>9 de mar. de 2021</td>\n      <td>75 marcações \"Gostei\"</td>\n      <td>Sem marcações \"Não gostei\"</td>\n      <td>NaN</td>\n      <td>0.364</td>\n    </tr>\n  </tbody>\n</table>\n</div>"
     },
     "metadata": {},
     "execution_count": 66
    }
   ],
   "source": [
    "df_unlabeled[mask_u].sort_values('p').head(5)"
   ]
  },
  {
   "cell_type": "code",
   "execution_count": 68,
   "metadata": {},
   "outputs": [],
   "source": [
    "dificeis = df_unlabeled[mask_u]\n",
    "aleatorioes = df_unlabeled[~mask_u].sample(31, random_state=0)"
   ]
  },
  {
   "cell_type": "code",
   "execution_count": 70,
   "metadata": {},
   "outputs": [],
   "source": [
    "pd.concat([dificeis, aleatorioes]).to_excel('active_learning.xlsx', sheet_name='links')"
   ]
  },
  {
   "cell_type": "code",
   "execution_count": null,
   "metadata": {},
   "outputs": [],
   "source": []
  }
 ]
}